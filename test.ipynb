
{
  "nbformat": 4,
  "nbformat_minor": 4,
  "metadata": {
    "colab": {
      "provenance": []
    },
    "kernelspec": {
      "name": "python3",
      "display_name": "Python 3"
    },
    "language_info": {
      "name": "python"
    }
  },
  "cells": [
    {
      "cell_type": "code",
      "execution_count": null,
      "metadata": {
        "colab": {
          "base_uri": "https://localhost:8080/"
        },
        "id": "8eLUUrrT5h4-",
        "outputId": "c178ff80-2e9b-4c0e-b2fe-ea3fd11da02e"
      },
      "outputs": [
        {
          "output_type": "stream",
          "name": "stdout",
          "text": [
            "Drive already mounted at /content/drive/; to attempt to forcibly remount, call drive.mount(\"/content/drive/\", force_remount=True).\n"
          ]
        }
      ],
      "source": [
        "#Mount Google drive for persistent input/output storage\n",
        "from google.colab import drive\n",
        "drive.mount('/content/drive/')"
      ]
    },
    {
      "cell_type": "code",
      "source": [
        "from google.colab import drive\n",
        "drive.mount('/content/drive')"
      ],
      "metadata": {
        "colab": {
          "base_uri": "https://localhost:8080/"
        },
        "id": "f0xZZU5D_14B",
        "outputId": "3e646180-1004-4e30-c6f3-87df8386e6ee"
      },
      "execution_count": null,
      "outputs": [
        {
          "output_type": "stream",
          "name": "stdout",
          "text": [
            "Drive already mounted at /content/drive; to attempt to forcibly remount, call drive.mount(\"/content/drive\", force_remount=True).\n"
          ]
        }
      ]
    },
    {
      "cell_type": "code",
      "source": [
        "#@title Loading in our data and importing necessary packages\n",
        "import numpy as np\n",
        "import pandas as pd\n",
        "import cv2\n",
        "import seaborn as sns\n",
        "import matplotlib.pyplot as plt\n",
        "from keras.utils import to_categorical\n",
        "from sklearn.model_selection import train_test_split\n",
        "from numpy import expand_dims\n",
        "from tensorflow.keras.preprocessing.image import load_img\n",
        "from tensorflow.keras.preprocessing.image import img_to_array\n",
        "from tensorflow.keras.preprocessing.image import ImageDataGenerator"
      ],
      "metadata": {
        "id": "qiLmHCPj5vMv"
      },
      "execution_count": null,
      "outputs": []
    },
    {
      "cell_type": "code",
      "source": [
        "# Variables: Change for each disease and change file/path names as appropriate\n",
        "\n",
        "#Disease label from labels.csv\n",
        "diseasetarget = 'hemorrhage'\n",
        "# specify path to labels.csv\n",
        "labels_csv_path = '/content/drive/MyDrive/AI/a-brazilian-multilabel-ophthalmological-dataset-brset-1.0.0/labels.csv'\n",
        "# Source directory with all images\n",
        "source_directory = \"/content/drive/MyDrive/AI/a-brazilian-multilabel-ophthalmological-dataset-brset-1.0.0/fundus_photos\"\n",
        "# Specify directory to move class images to.\n",
        "# Subsequent code will create sub-directories for each class and move images to the appropriate class sub-directory\n",
        "# DO NOT PUT ANYTHING ELSE HERE or the routine for creating training/validation dataset will fail\n",
        "target_maindir = \"/content/drive/MyDrive/AI/Hemorrhage\"\n",
        "# Path and filename for model. This cannot be under the target_maindir\n",
        "model_save_path = '/content/drive/MyDrive/AI/Models/hemorrhage02122024.h5'"
      ],
      "metadata": {
        "id": "JbMXB6JI5z4m"
      },
      "execution_count": null,
      "outputs": []
    },
    {
      "cell_type": "code",
      "source": [
        "# Read labels into a dataframe\n",
        "data_frame = pd.read_csv(labels_csv_path)\n",
        "# Data Profiling: Peek into the Labels\n",
        "data_frame.head()"
      ],
      "metadata": {
        "colab": {
          "base_uri": "https://localhost:8080/",
          "height": 338
        },
        "id": "rfq7Vg3k8kXT",
        "outputId": "da6b3531-3738-4128-f33f-ebb53d615b32"
      },
      "execution_count": null,
      "outputs": [
        {
          "output_type": "execute_result",
          "data": {
            "text/plain": [
              "   image_id  patient_id    camera  patient_age comorbidities diabetes_time_y  \\\n",
              "0  img00001           1  Canon CR         48.0     diabetes1              12   \n",
              "1  img00002           1  Canon CR         48.0     diabetes1              12   \n",
              "2  img00003           2  Canon CR         18.0     diabetes1               7   \n",
              "3  img00004           2  Canon CR         18.0     diabetes1               7   \n",
              "4  img00005           3  Canon CR         22.0     diabetes1              11   \n",
              "\n",
              "  insuline  patient_sex  exam_eye diabetes  ... amd vascular_occlusion  \\\n",
              "0      yes            1         1      yes  ...   0                  0   \n",
              "1      yes            1         2      yes  ...   0                  0   \n",
              "2      yes            2         1      yes  ...   0                  0   \n",
              "3      yes            2         2      yes  ...   0                  0   \n",
              "4      yes            1         1      yes  ...   0                  0   \n",
              "\n",
              "   hypertensive_retinopathy  drusens  hemorrhage  retinal_detachment  \\\n",
              "0                         0        0           0                   0   \n",
              "1                         0        0           0                   0   \n",
              "2                         0        0           0                   0   \n",
              "3                         0        0           0                   0   \n",
              "4                         0        0           0                   0   \n",
              "\n",
              "   myopic_fundus  increased_cup_disc  other   quality  \n",
              "0              0                   1      0  Adequate  \n",
              "1              0                   1      0  Adequate  \n",
              "2              0                   0      0  Adequate  \n",
              "3              0                   0      0  Adequate  \n",
              "4              0                   0      0  Adequate  \n",
              "\n",
              "[5 rows x 34 columns]"
            ],
            "text/html": [
              "\n",
              "  <div id=\"df-8885c9cd-0f4b-42ed-951c-94e85733f9cd\" class=\"colab-df-container\">\n",
              "    <div>\n",
              "<style scoped>\n",
              "    .dataframe tbody tr th:only-of-type {\n",
              "        vertical-align: middle;\n",
              "    }\n",
              "\n",
              "    .dataframe tbody tr th {\n",
              "        vertical-align: top;\n",
              "    }\n",
              "\n",
              "    .dataframe thead th {\n",
              "        text-align: right;\n",
              "    }\n",
              "</style>\n",
              "<table border=\"1\" class=\"dataframe\">\n",
              "  <thead>\n",
              "    <tr style=\"text-align: right;\">\n",
              "      <th></th>\n",
              "      <th>image_id</th>\n",
              "      <th>patient_id</th>\n",
              "      <th>camera</th>\n",
              "      <th>patient_age</th>\n",
              "      <th>comorbidities</th>\n",
              "      <th>diabetes_time_y</th>\n",
              "      <th>insuline</th>\n",
              "      <th>patient_sex</th>\n",
              "      <th>exam_eye</th>\n",
              "      <th>diabetes</th>\n",
              "      <th>...</th>\n",
              "      <th>amd</th>\n",
              "      <th>vascular_occlusion</th>\n",
              "      <th>hypertensive_retinopathy</th>\n",
              "      <th>drusens</th>\n",
              "      <th>hemorrhage</th>\n",
              "      <th>retinal_detachment</th>\n",
              "      <th>myopic_fundus</th>\n",
              "      <th>increased_cup_disc</th>\n",
              "      <th>other</th>\n",
              "      <th>quality</th>\n",
              "    </tr>\n",
              "  </thead>\n",
              "  <tbody>\n",
              "    <tr>\n",
              "      <th>0</th>\n",
              "      <td>img00001</td>\n",
              "      <td>1</td>\n",
              "      <td>Canon CR</td>\n",
              "      <td>48.0</td>\n",
              "      <td>diabetes1</td>\n",
              "      <td>12</td>\n",
              "      <td>yes</td>\n",
              "      <td>1</td>\n",
              "      <td>1</td>\n",
              "      <td>yes</td>\n",
              "      <td>...</td>\n",
              "      <td>0</td>\n",
              "      <td>0</td>\n",
              "      <td>0</td>\n",
              "      <td>0</td>\n",
              "      <td>0</td>\n",
              "      <td>0</td>\n",
              "      <td>0</td>\n",
              "      <td>1</td>\n",
              "      <td>0</td>\n",
              "      <td>Adequate</td>\n",
              "    </tr>\n",
              "    <tr>\n",
              "      <th>1</th>\n",
              "      <td>img00002</td>\n",
              "      <td>1</td>\n",
              "      <td>Canon CR</td>\n",
              "      <td>48.0</td>\n",
              "      <td>diabetes1</td>\n",
              "      <td>12</td>\n",
              "      <td>yes</td>\n",
              "      <td>1</td>\n",
              "      <td>2</td>\n",
              "      <td>yes</td>\n",
              "      <td>...</td>\n",
              "      <td>0</td>\n",
              "      <td>0</td>\n",
              "      <td>0</td>\n",
              "      <td>0</td>\n",
              "      <td>0</td>\n",
              "      <td>0</td>\n",
              "      <td>0</td>\n",
              "      <td>1</td>\n",
              "      <td>0</td>\n",
              "      <td>Adequate</td>\n",
              "    </tr>\n",
              "    <tr>\n",
              "      <th>2</th>\n",
              "      <td>img00003</td>\n",
              "      <td>2</td>\n",
              "      <td>Canon CR</td>\n",
              "      <td>18.0</td>\n",
              "      <td>diabetes1</td>\n",
              "      <td>7</td>\n",
              "      <td>yes</td>\n",
              "      <td>2</td>\n",
              "      <td>1</td>\n",
              "      <td>yes</td>\n",
              "      <td>...</td>\n",
              "      <td>0</td>\n",
              "      <td>0</td>\n",
              "      <td>0</td>\n",
              "      <td>0</td>\n",
              "      <td>0</td>\n",
              "      <td>0</td>\n",
              "      <td>0</td>\n",
              "      <td>0</td>\n",
              "      <td>0</td>\n",
              "      <td>Adequate</td>\n",
              "    </tr>\n",
              "    <tr>\n",
              "      <th>3</th>\n",
              "      <td>img00004</td>\n",
              "      <td>2</td>\n",
              "      <td>Canon CR</td>\n",
              "      <td>18.0</td>\n",
              "      <td>diabetes1</td>\n",
              "      <td>7</td>\n",
              "      <td>yes</td>\n",
              "      <td>2</td>\n",
              "      <td>2</td>\n",
              "      <td>yes</td>\n",
              "      <td>...</td>\n",
              "      <td>0</td>\n",
              "      <td>0</td>\n",
              "      <td>0</td>\n",
              "      <td>0</td>\n",
              "      <td>0</td>\n",
              "      <td>0</td>\n",
              "      <td>0</td>\n",
              "      <td>0</td>\n",
              "      <td>0</td>\n",
              "      <td>Adequate</td>\n",
              "    </tr>\n",
              "    <tr>\n",
              "      <th>4</th>\n",
              "      <td>img00005</td>\n",
              "      <td>3</td>\n",
              "      <td>Canon CR</td>\n",
              "      <td>22.0</td>\n",
              "      <td>diabetes1</td>\n",
              "      <td>11</td>\n",
              "      <td>yes</td>\n",
              "      <td>1</td>\n",
              "      <td>1</td>\n",
              "      <td>yes</td>\n",
              "      <td>...</td>\n",
              "      <td>0</td>\n",
              "      <td>0</td>\n",
              "      <td>0</td>\n",
              "      <td>0</td>\n",
              "      <td>0</td>\n",
              "      <td>0</td>\n",
              "      <td>0</td>\n",
              "      <td>0</td>\n",
              "      <td>0</td>\n",
              "      <td>Adequate</td>\n",
              "    </tr>\n",
              "  </tbody>\n",
              "</table>\n",
              "<p>5 rows × 34 columns</p>\n",
              "</div>\n",
              "    <div class=\"colab-df-buttons\">\n",
              "\n",
              "  <div class=\"colab-df-container\">\n",
              "    <button class=\"colab-df-convert\" onclick=\"convertToInteractive('df-8885c9cd-0f4b-42ed-951c-94e85733f9cd')\"\n",
              "            title=\"Convert this dataframe to an interactive table.\"\n",
              "            style=\"display:none;\">\n",
              "\n",
              "  <svg xmlns=\"http://www.w3.org/2000/svg\" height=\"24px\" viewBox=\"0 -960 960 960\">\n",
              "    <path d=\"M120-120v-720h720v720H120Zm60-500h600v-160H180v160Zm220 220h160v-160H400v160Zm0 220h160v-160H400v160ZM180-400h160v-160H180v160Zm440 0h160v-160H620v160ZM180-180h160v-160H180v160Zm440 0h160v-160H620v160Z\"/>\n",
              "  </svg>\n",
              "    </button>\n",
              "\n",
              "  <style>\n",
              "    .colab-df-container {\n",
              "      display:flex;\n",
              "      gap: 12px;\n",
              "    }\n",
              "\n",
              "    .colab-df-convert {\n",
              "      background-color: #E8F0FE;\n",
              "      border: none;\n",
              "      border-radius: 50%;\n",
              "      cursor: pointer;\n",
              "      display: none;\n",
              "      fill: #1967D2;\n",
              "      height: 32px;\n",
              "      padding: 0 0 0 0;\n",
              "      width: 32px;\n",
              "    }\n",
              "\n",
              "    .colab-df-convert:hover {\n",
              "      background-color: #E2EBFA;\n",
              "      box-shadow: 0px 1px 2px rgba(60, 64, 67, 0.3), 0px 1px 3px 1px rgba(60, 64, 67, 0.15);\n",
              "      fill: #174EA6;\n",
              "    }\n",
              "\n",
              "    .colab-df-buttons div {\n",
              "      margin-bottom: 4px;\n",
              "    }\n",
              "\n",
              "    [theme=dark] .colab-df-convert {\n",
              "      background-color: #3B4455;\n",
              "      fill: #D2E3FC;\n",
              "    }\n",
              "\n",
              "    [theme=dark] .colab-df-convert:hover {\n",
              "      background-color: #434B5C;\n",
              "      box-shadow: 0px 1px 3px 1px rgba(0, 0, 0, 0.15);\n",
              "      filter: drop-shadow(0px 1px 2px rgba(0, 0, 0, 0.3));\n",
              "      fill: #FFFFFF;\n",
              "    }\n",
              "  </style>\n",
              "\n",
              "    <script>\n",
              "      const buttonEl =\n",
              "        document.querySelector('#df-8885c9cd-0f4b-42ed-951c-94e85733f9cd button.colab-df-convert');\n",
              "      buttonEl.style.display =\n",
              "        google.colab.kernel.accessAllowed ? 'block' : 'none';\n",
              "\n",
              "      async function convertToInteractive(key) {\n",
              "        const element = document.querySelector('#df-8885c9cd-0f4b-42ed-951c-94e85733f9cd');\n",
              "        const dataTable =\n",
              "          await google.colab.kernel.invokeFunction('convertToInteractive',\n",
              "                                                    [key], {});\n",
              "        if (!dataTable) return;\n",
              "\n",
              "        const docLinkHtml = 'Like what you see? Visit the ' +\n",
              "          '<a target=\"_blank\" href=https://colab.research.google.com/notebooks/data_table.ipynb>data table notebook</a>'\n",
              "          + ' to learn more about interactive tables.';\n",
              "        element.innerHTML = '';\n",
              "        dataTable['output_type'] = 'display_data';\n",
              "        await google.colab.output.renderOutput(dataTable, element);\n",
              "        const docLink = document.createElement('div');\n",
              "        docLink.innerHTML = docLinkHtml;\n",
              "        element.appendChild(docLink);\n",
              "      }\n",
              "    </script>\n",
              "  </div>\n",
              "\n",
              "\n",
              "<div id=\"df-2fa089f2-24d0-4c9c-9214-62dcee6981eb\">\n",
              "  <button class=\"colab-df-quickchart\" onclick=\"quickchart('df-2fa089f2-24d0-4c9c-9214-62dcee6981eb')\"\n",
              "            title=\"Suggest charts\"\n",
              "            style=\"display:none;\">\n",
              "\n",
              "<svg xmlns=\"http://www.w3.org/2000/svg\" height=\"24px\"viewBox=\"0 0 24 24\"\n",
              "     width=\"24px\">\n",
              "    <g>\n",
              "        <path d=\"M19 3H5c-1.1 0-2 .9-2 2v14c0 1.1.9 2 2 2h14c1.1 0 2-.9 2-2V5c0-1.1-.9-2-2-2zM9 17H7v-7h2v7zm4 0h-2V7h2v10zm4 0h-2v-4h2v4z\"/>\n",
              "    </g>\n",
              "</svg>\n",
              "  </button>\n",
              "\n",
              "<style>\n",
              "  .colab-df-quickchart {\n",
              "      --bg-color: #E8F0FE;\n",
              "      --fill-color: #1967D2;\n",
              "      --hover-bg-color: #E2EBFA;\n",
              "      --hover-fill-color: #174EA6;\n",
              "      --disabled-fill-color: #AAA;\n",
              "      --disabled-bg-color: #DDD;\n",
              "  }\n",
              "\n",
              "  [theme=dark] .colab-df-quickchart {\n",
              "      --bg-color: #3B4455;\n",
              "      --fill-color: #D2E3FC;\n",
              "      --hover-bg-color: #434B5C;\n",
              "      --hover-fill-color: #FFFFFF;\n",
              "      --disabled-bg-color: #3B4455;\n",
              "      --disabled-fill-color: #666;\n",
              "  }\n",
              "\n",
              "  .colab-df-quickchart {\n",
              "    background-color: var(--bg-color);\n",
              "    border: none;\n",
              "    border-radius: 50%;\n",
              "    cursor: pointer;\n",
              "    display: none;\n",
              "    fill: var(--fill-color);\n",
              "    height: 32px;\n",
              "    padding: 0;\n",
              "    width: 32px;\n",
              "  }\n",
              "\n",
              "  .colab-df-quickchart:hover {\n",
              "    background-color: var(--hover-bg-color);\n",
              "    box-shadow: 0 1px 2px rgba(60, 64, 67, 0.3), 0 1px 3px 1px rgba(60, 64, 67, 0.15);\n",
              "    fill: var(--button-hover-fill-color);\n",
              "  }\n",
              "\n",
              "  .colab-df-quickchart-complete:disabled,\n",
              "  .colab-df-quickchart-complete:disabled:hover {\n",
              "    background-color: var(--disabled-bg-color);\n",
              "    fill: var(--disabled-fill-color);\n",
              "    box-shadow: none;\n",
              "  }\n",
              "\n",
              "  .colab-df-spinner {\n",
              "    border: 2px solid var(--fill-color);\n",
              "    border-color: transparent;\n",
              "    border-bottom-color: var(--fill-color);\n",
              "    animation:\n",
              "      spin 1s steps(1) infinite;\n",
              "  }\n",
              "\n",
              "  @keyframes spin {\n",
              "    0% {\n",
              "      border-color: transparent;\n",
              "      border-bottom-color: var(--fill-color);\n",
              "      border-left-color: var(--fill-color);\n",
              "    }\n",
              "    20% {\n",
              "      border-color: transparent;\n",
              "      border-left-color: var(--fill-color);\n",
              "      border-top-color: var(--fill-color);\n",
              "    }\n",
              "    30% {\n",
              "      border-color: transparent;\n",
              "      border-left-color: var(--fill-color);\n",
              "      border-top-color: var(--fill-color);\n",
              "      border-right-color: var(--fill-color);\n",
              "    }\n",
              "    40% {\n",
              "      border-color: transparent;\n",
              "      border-right-color: var(--fill-color);\n",
              "      border-top-color: var(--fill-color);\n",
              "    }\n",
              "    60% {\n",
              "      border-color: transparent;\n",
              "      border-right-color: var(--fill-color);\n",
              "    }\n",
              "    80% {\n",
              "      border-color: transparent;\n",
              "      border-right-color: var(--fill-color);\n",
              "      border-bottom-color: var(--fill-color);\n",
              "    }\n",
              "    90% {\n",
              "      border-color: transparent;\n",
              "      border-bottom-color: var(--fill-color);\n",
              "    }\n",
              "  }\n",
              "</style>\n",
              "\n",
              "  <script>\n",
              "    async function quickchart(key) {\n",
              "      const quickchartButtonEl =\n",
              "        document.querySelector('#' + key + ' button');\n",
              "      quickchartButtonEl.disabled = true;  // To prevent multiple clicks.\n",
              "      quickchartButtonEl.classList.add('colab-df-spinner');\n",
              "      try {\n",
              "        const charts = await google.colab.kernel.invokeFunction(\n",
              "            'suggestCharts', [key], {});\n",
              "      } catch (error) {\n",
              "        console.error('Error during call to suggestCharts:', error);\n",
              "      }\n",
              "      quickchartButtonEl.classList.remove('colab-df-spinner');\n",
              "      quickchartButtonEl.classList.add('colab-df-quickchart-complete');\n",
              "    }\n",
              "    (() => {\n",
              "      let quickchartButtonEl =\n",
              "        document.querySelector('#df-2fa089f2-24d0-4c9c-9214-62dcee6981eb button');\n",
              "      quickchartButtonEl.style.display =\n",
              "        google.colab.kernel.accessAllowed ? 'block' : 'none';\n",
              "    })();\n",
              "  </script>\n",
              "</div>\n",
              "\n",
              "    </div>\n",
              "  </div>\n"
            ],
            "application/vnd.google.colaboratory.intrinsic+json": {
              "type": "dataframe",
              "variable_name": "data_frame"
            }
          },
          "metadata": {},
          "execution_count": 14
        }
      ]
    },
    {
      "cell_type": "code",
      "source": [
        "# For simplicity, create a new data frame with just the image ID and disease target label\n",
        "new_data = data_frame[['image_id',diseasetarget]]\n",
        "# Data Profiling: Peek into the new data frame\n",
        "new_data.head()"
      ],
      "metadata": {
        "colab": {
          "base_uri": "https://localhost:8080/",
          "height": 204
        },
        "id": "eoOl5A0Y8oIy",
        "outputId": "d0b7fcdd-d25a-4b19-ad40-4c46c20d287a"
      },
      "execution_count": null,
      "outputs": [
        {
          "output_type": "execute_result",
          "data": {
            "text/plain": [
              "   image_id  hemorrhage\n",
              "0  img00001           0\n",
              "1  img00002           0\n",
              "2  img00003           0\n",
              "3  img00004           0\n",
              "4  img00005           0"
            ],
            "text/html": [
              "\n",
              "  <div id=\"df-3469ee19-4cb2-49a5-9827-c6c5a023d57e\" class=\"colab-df-container\">\n",
              "    <div>\n",
              "<style scoped>\n",
              "    .dataframe tbody tr th:only-of-type {\n",
              "        vertical-align: middle;\n",
              "    }\n",
              "\n",
              "    .dataframe tbody tr th {\n",
              "        vertical-align: top;\n",
              "    }\n",
              "\n",
              "    .dataframe thead th {\n",
              "        text-align: right;\n",
              "    }\n",
              "</style>\n",
              "<table border=\"1\" class=\"dataframe\">\n",
              "  <thead>\n",
              "    <tr style=\"text-align: right;\">\n",
              "      <th></th>\n",
              "      <th>image_id</th>\n",
              "      <th>hemorrhage</th>\n",
              "    </tr>\n",
              "  </thead>\n",
              "  <tbody>\n",
              "    <tr>\n",
              "      <th>0</th>\n",
              "      <td>img00001</td>\n",
              "      <td>0</td>\n",
              "    </tr>\n",
              "    <tr>\n",
              "      <th>1</th>\n",
              "      <td>img00002</td>\n",
              "      <td>0</td>\n",
              "    </tr>\n",
              "    <tr>\n",
              "      <th>2</th>\n",
              "      <td>img00003</td>\n",
              "      <td>0</td>\n",
              "    </tr>\n",
              "    <tr>\n",
              "      <th>3</th>\n",
              "      <td>img00004</td>\n",
              "      <td>0</td>\n",
              "    </tr>\n",
              "    <tr>\n",
              "      <th>4</th>\n",
              "      <td>img00005</td>\n",
              "      <td>0</td>\n",
              "    </tr>\n",
              "  </tbody>\n",
              "</table>\n",
              "</div>\n",
              "    <div class=\"colab-df-buttons\">\n",
              "\n",
              "  <div class=\"colab-df-container\">\n",
              "    <button class=\"colab-df-convert\" onclick=\"convertToInteractive('df-3469ee19-4cb2-49a5-9827-c6c5a023d57e')\"\n",
              "            title=\"Convert this dataframe to an interactive table.\"\n",
              "            style=\"display:none;\">\n",
              "\n",
              "  <svg xmlns=\"http://www.w3.org/2000/svg\" height=\"24px\" viewBox=\"0 -960 960 960\">\n",
              "    <path d=\"M120-120v-720h720v720H120Zm60-500h600v-160H180v160Zm220 220h160v-160H400v160Zm0 220h160v-160H400v160ZM180-400h160v-160H180v160Zm440 0h160v-160H620v160ZM180-180h160v-160H180v160Zm440 0h160v-160H620v160Z\"/>\n",
              "  </svg>\n",
              "    </button>\n",
              "\n",
              "  <style>\n",
              "    .colab-df-container {\n",
              "      display:flex;\n",
              "      gap: 12px;\n",
              "    }\n",
              "\n",
              "    .colab-df-convert {\n",
              "      background-color: #E8F0FE;\n",
              "      border: none;\n",
              "      border-radius: 50%;\n",
              "      cursor: pointer;\n",
              "      display: none;\n",
              "      fill: #1967D2;\n",
              "      height: 32px;\n",
              "      padding: 0 0 0 0;\n",
              "      width: 32px;\n",
              "    }\n",
              "\n",
              "    .colab-df-convert:hover {\n",
              "      background-color: #E2EBFA;\n",
              "      box-shadow: 0px 1px 2px rgba(60, 64, 67, 0.3), 0px 1px 3px 1px rgba(60, 64, 67, 0.15);\n",
              "      fill: #174EA6;\n",
              "    }\n",
              "\n",
              "    .colab-df-buttons div {\n",
              "      margin-bottom: 4px;\n",
              "    }\n",
              "\n",
              "    [theme=dark] .colab-df-convert {\n",
              "      background-color: #3B4455;\n",
              "      fill: #D2E3FC;\n",
              "    }\n",
              "\n",
              "    [theme=dark] .colab-df-convert:hover {\n",
              "      background-color: #434B5C;\n",
              "      box-shadow: 0px 1px 3px 1px rgba(0, 0, 0, 0.15);\n",
              "      filter: drop-shadow(0px 1px 2px rgba(0, 0, 0, 0.3));\n",
              "      fill: #FFFFFF;\n",
              "    }\n",
              "  </style>\n",
              "\n",
              "    <script>\n",
              "      const buttonEl =\n",
              "        document.querySelector('#df-3469ee19-4cb2-49a5-9827-c6c5a023d57e button.colab-df-convert');\n",
              "      buttonEl.style.display =\n",
              "        google.colab.kernel.accessAllowed ? 'block' : 'none';\n",
              "\n",
              "      async function convertToInteractive(key) {\n",
              "        const element = document.querySelector('#df-3469ee19-4cb2-49a5-9827-c6c5a023d57e');\n",
              "        const dataTable =\n",
              "          await google.colab.kernel.invokeFunction('convertToInteractive',\n",
              "                                                    [key], {});\n",
              "        if (!dataTable) return;\n",
              "\n",
              "        const docLinkHtml = 'Like what you see? Visit the ' +\n",
              "          '<a target=\"_blank\" href=https://colab.research.google.com/notebooks/data_table.ipynb>data table notebook</a>'\n",
              "          + ' to learn more about interactive tables.';\n",
              "        element.innerHTML = '';\n",
              "        dataTable['output_type'] = 'display_data';\n",
              "        await google.colab.output.renderOutput(dataTable, element);\n",
              "        const docLink = document.createElement('div');\n",
              "        docLink.innerHTML = docLinkHtml;\n",
              "        element.appendChild(docLink);\n",
              "      }\n",
              "    </script>\n",
              "  </div>\n",
              "\n",
              "\n",
              "<div id=\"df-64fbd3ee-63db-40ff-9435-7ce0b8bf3a7c\">\n",
              "  <button class=\"colab-df-quickchart\" onclick=\"quickchart('df-64fbd3ee-63db-40ff-9435-7ce0b8bf3a7c')\"\n",
              "            title=\"Suggest charts\"\n",
              "            style=\"display:none;\">\n",
              "\n",
              "<svg xmlns=\"http://www.w3.org/2000/svg\" height=\"24px\"viewBox=\"0 0 24 24\"\n",
              "     width=\"24px\">\n",
              "    <g>\n",
              "        <path d=\"M19 3H5c-1.1 0-2 .9-2 2v14c0 1.1.9 2 2 2h14c1.1 0 2-.9 2-2V5c0-1.1-.9-2-2-2zM9 17H7v-7h2v7zm4 0h-2V7h2v10zm4 0h-2v-4h2v4z\"/>\n",
              "    </g>\n",
              "</svg>\n",
              "  </button>\n",
              "\n",
              "<style>\n",
              "  .colab-df-quickchart {\n",
              "      --bg-color: #E8F0FE;\n",
              "      --fill-color: #1967D2;\n",
              "      --hover-bg-color: #E2EBFA;\n",
              "      --hover-fill-color: #174EA6;\n",
              "      --disabled-fill-color: #AAA;\n",
              "      --disabled-bg-color: #DDD;\n",
              "  }\n",
              "\n",
              "  [theme=dark] .colab-df-quickchart {\n",
              "      --bg-color: #3B4455;\n",
              "      --fill-color: #D2E3FC;\n",
              "      --hover-bg-color: #434B5C;\n",
              "      --hover-fill-color: #FFFFFF;\n",
              "      --disabled-bg-color: #3B4455;\n",
              "      --disabled-fill-color: #666;\n",
              "  }\n",
              "\n",
              "  .colab-df-quickchart {\n",
              "    background-color: var(--bg-color);\n",
              "    border: none;\n",
              "    border-radius: 50%;\n",
              "    cursor: pointer;\n",
              "    display: none;\n",
              "    fill: var(--fill-color);\n",
              "    height: 32px;\n",
              "    padding: 0;\n",
              "    width: 32px;\n",
              "  }\n",
              "\n",
              "  .colab-df-quickchart:hover {\n",
              "    background-color: var(--hover-bg-color);\n",
              "    box-shadow: 0 1px 2px rgba(60, 64, 67, 0.3), 0 1px 3px 1px rgba(60, 64, 67, 0.15);\n",
              "    fill: var(--button-hover-fill-color);\n",
              "  }\n",
              "\n",
              "  .colab-df-quickchart-complete:disabled,\n",
              "  .colab-df-quickchart-complete:disabled:hover {\n",
              "    background-color: var(--disabled-bg-color);\n",
              "    fill: var(--disabled-fill-color);\n",
              "    box-shadow: none;\n",
              "  }\n",
              "\n",
              "  .colab-df-spinner {\n",
              "    border: 2px solid var(--fill-color);\n",
              "    border-color: transparent;\n",
              "    border-bottom-color: var(--fill-color);\n",
              "    animation:\n",
              "      spin 1s steps(1) infinite;\n",
              "  }\n",
              "\n",
              "  @keyframes spin {\n",
              "    0% {\n",
              "      border-color: transparent;\n",
              "      border-bottom-color: var(--fill-color);\n",
              "      border-left-color: var(--fill-color);\n",
              "    }\n",
              "    20% {\n",
              "      border-color: transparent;\n",
              "      border-left-color: var(--fill-color);\n",
              "      border-top-color: var(--fill-color);\n",
              "    }\n",
              "    30% {\n",
              "      border-color: transparent;\n",
              "      border-left-color: var(--fill-color);\n",
              "      border-top-color: var(--fill-color);\n",
              "      border-right-color: var(--fill-color);\n",
              "    }\n",
              "    40% {\n",
              "      border-color: transparent;\n",
              "      border-right-color: var(--fill-color);\n",
              "      border-top-color: var(--fill-color);\n",
              "    }\n",
              "    60% {\n",
              "      border-color: transparent;\n",
              "      border-right-color: var(--fill-color);\n",
              "    }\n",
              "    80% {\n",
              "      border-color: transparent;\n",
              "      border-right-color: var(--fill-color);\n",
              "      border-bottom-color: var(--fill-color);\n",
              "    }\n",
              "    90% {\n",
              "      border-color: transparent;\n",
              "      border-bottom-color: var(--fill-color);\n",
              "    }\n",
              "  }\n",
              "</style>\n",
              "\n",
              "  <script>\n",
              "    async function quickchart(key) {\n",
              "      const quickchartButtonEl =\n",
              "        document.querySelector('#' + key + ' button');\n",
              "      quickchartButtonEl.disabled = true;  // To prevent multiple clicks.\n",
              "      quickchartButtonEl.classList.add('colab-df-spinner');\n",
              "      try {\n",
              "        const charts = await google.colab.kernel.invokeFunction(\n",
              "            'suggestCharts', [key], {});\n",
              "      } catch (error) {\n",
              "        console.error('Error during call to suggestCharts:', error);\n",
              "      }\n",
              "      quickchartButtonEl.classList.remove('colab-df-spinner');\n",
              "      quickchartButtonEl.classList.add('colab-df-quickchart-complete');\n",
              "    }\n",
              "    (() => {\n",
              "      let quickchartButtonEl =\n",
              "        document.querySelector('#df-64fbd3ee-63db-40ff-9435-7ce0b8bf3a7c button');\n",
              "      quickchartButtonEl.style.display =\n",
              "        google.colab.kernel.accessAllowed ? 'block' : 'none';\n",
              "    })();\n",
              "  </script>\n",
              "</div>\n",
              "\n",
              "    </div>\n",
              "  </div>\n"
            ],
            "application/vnd.google.colaboratory.intrinsic+json": {
              "type": "dataframe",
              "variable_name": "new_data",
              "summary": "{\n  \"name\": \"new_data\",\n  \"rows\": 16266,\n  \"fields\": [\n    {\n      \"column\": \"image_id\",\n      \"properties\": {\n        \"dtype\": \"string\",\n        \"samples\": [\n          \"img00388\",\n          \"img01262\",\n          \"img02547\"\n        ],\n        \"num_unique_values\": 16266,\n        \"semantic_type\": \"\",\n        \"description\": \"\"\n      }\n    },\n    {\n      \"column\": \"hemorrhage\",\n      \"properties\": {\n        \"dtype\": \"number\",\n        \"std\": 0,\n        \"min\": 0,\n        \"max\": 1,\n        \"samples\": [\n          1,\n          0\n        ],\n        \"num_unique_values\": 2,\n        \"semantic_type\": \"\",\n        \"description\": \"\"\n      }\n    }\n  ]\n}"
            }
          },
          "metadata": {},
          "execution_count": 15
        }
      ]
    },
    {
      "cell_type": "code",
      "source": [
        "# Data Profiling: Distribution of Class 0 and 1 images. We need to \"balance\" images between class 0 and 1.\n",
        "# Minority class (typically Class 1 with disease) should be around 1000 images.\n",
        "#     If < 1000, then \"synthesize\" additional images to reach 1000. Make additional identical copies and rely on \"augmentation\" to randomize each copy\n",
        "# Majority class (typically class 0 for without disease) should be downsampled to Minority Class\n",
        "new_data[diseasetarget].value_counts()"
      ],
      "metadata": {
        "colab": {
          "base_uri": "https://localhost:8080/"
        },
        "id": "KXYMHqrs8qh0",
        "outputId": "7c3b880a-e50b-4c1a-8c1e-fcbfcba05852"
      },
      "execution_count": null,
      "outputs": [
        {
          "output_type": "execute_result",
          "data": {
            "text/plain": [
              "0    16170\n",
              "1       96\n",
              "Name: hemorrhage, dtype: int64"
            ]
          },
          "metadata": {},
          "execution_count": 16
        }
      ]
    },
    {
      "cell_type": "code",
      "source": [
        "# Create a Class 0 specific data frame\n",
        "# downsampling class 0 to 1000 since data profiling indicated class 1 < 1000. If > 1000, then downsample to the class 1 count\n",
        "class0_df = new_data[new_data[diseasetarget] == 0].sample(n=1000)\n",
        "# Create a Class 1 specific data frame\n",
        "# < 1000 images based on above data profiling. Create additional identical copies below to come close to 1000\n",
        "class1_df = new_data[new_data[diseasetarget] == 1]\n",
        "# Combine the 2 dataframes into one new data frame\n",
        "new_data = pd.concat([class0_df, class1_df])\n",
        "new_data.shape"
      ],
      "metadata": {
        "colab": {
          "base_uri": "https://localhost:8080/"
        },
        "id": "tNT5Hj9s88WO",
        "outputId": "bdf044bc-4276-4c4b-d176-144e51bd9a18"
      },
      "execution_count": null,
      "outputs": [
        {
          "output_type": "execute_result",
          "data": {
            "text/plain": [
              "(1096, 2)"
            ]
          },
          "metadata": {},
          "execution_count": 17
        }
      ]
    },
    {
      "cell_type": "code",
      "source": [
        "#####################################################################################################\n",
        "############################################# IMAGE COPY ############################################\n",
        "#####################################################################################################\n",
        "# create sub-directories for each class and move images to the appropriate class sub-directory\n",
        "# If Minority class images < 1000, then \"synthesize\" additional images to reach 1000.\n",
        "# Make additional identical copies and rely on \"augmentation\" in a later code block to randomize each copy\n",
        "import shutil\n",
        "import os\n",
        "from tqdm import tqdm\n",
        "\n",
        "# Create the main directory under which class specific sub-directories will be created later\n",
        "if not os.path.exists(target_maindir):\n",
        "    os.makedirs(target_maindir)\n",
        "\n",
        "# Determine number of unique classes (to make sub-directory). Typically 2 (class 0: No disease, class 1: with disease)\n",
        "num_classes = new_data[diseasetarget].nunique()\n",
        "# Initialize an Array of class sub-directories that will store the full path to the /0 and /1 sub-directories\n",
        "class_directories = {}\n",
        "\n",
        "# Create class sub-directories (e.g. ../0 and ../1) and also append class directories array\n",
        "# For each class\n",
        "for i in range(num_classes):\n",
        "  # Form the sub-directory path: \"Target Main Directory + /Class label ((e.g. ../0 and ../1))\"\"\n",
        "  class_directory = os.path.join(target_maindir, str(i)) #sub-directory\n",
        "  # Make this sub-directory\n",
        "  os.makedirs(class_directory, exist_ok=True)\n",
        "  # append the /0 or /1 class sub-directory path to the class directories array\n",
        "  # Index 0 will store the path for .../0 and index 1 will store the path for .../1\n",
        "  class_directories[i] = class_directory\n",
        "\n",
        "# Move each image to its appropriate sub-directory along with additional identical copies (if required)\n",
        "# For each row in the data frame (represents the downsampled class 0 images + class 1 images)\n",
        "# The iterator for the FOR loop is simply the number of rows (length) in the new_data dataframe from above\n",
        "# use a progress bar by including the OPTIONAL tqdm feature\n",
        "for i in tqdm(range(len(new_data))):\n",
        "  # Create a filename by appending .jpg to the image_id. \"i\" is the for loop index/iterator and iloc[i] accesses the appropriate data frame index. Row 0, then 1, 2,...\n",
        "  file_name = new_data['image_id'].iloc[i] + \".jpg\"\n",
        "  # Create the exact \"source\" image file path by combining the location where the fundus images can be found and the file name from above\n",
        "  source = os.path.join(source_directory, file_name)\n",
        "\n",
        "  # Now \"copy\" the source image file to the sub-directories.\n",
        "  # Make additional identical copies and rely on \"augmentation\" in a later code block to randomize each copy\n",
        "\n",
        "  # check if source image file exists\n",
        "  if os.path.exists(source):\n",
        "    # Look at labels.csv for the class label (0 or 1) for this particular dataframe row (image)\n",
        "    class_label = new_data[diseasetarget].iloc[i]\n",
        "    # Get the path for the approriate sub-directory\n",
        "    target_directory = class_directories[class_label]\n",
        "\n",
        "    # Copy from fundus images source to target 0 sub-directory.\n",
        "    if class_label == 0:\n",
        "      shutil.copy(source, target_directory)\n",
        "    # Copy from fundus images source to target 1 sub-directory.\n",
        "    # Also create additional identical image copies in this sub-directory if data synthesis is required.\n",
        "    elif class_label == 1:\n",
        "      shutil.copy(source, target_directory)\n",
        "      shutil.copy(source, os.path.join(target_directory, new_data['image_id'].iloc[i] + \"_1.jpg\"))\n",
        "      shutil.copy(source, os.path.join(target_directory, new_data['image_id'].iloc[i] + \"_2.jpg\"))\n",
        "      shutil.copy(source, os.path.join(target_directory, new_data['image_id'].iloc[i] + \"_3.jpg\"))\n",
        "      shutil.copy(source, os.path.join(target_directory, new_data['image_id'].iloc[i] + \"_4.jpg\"))\n",
        "      shutil.copy(source, os.path.join(target_directory, new_data['image_id'].iloc[i] + \"_5.jpg\"))\n",
        "      shutil.copy(source, os.path.join(target_directory, new_data['image_id'].iloc[i] + \"_6.jpg\"))\n",
        "      shutil.copy(source, os.path.join(target_directory, new_data['image_id'].iloc[i] + \"_7.jpg\"))\n",
        "      shutil.copy(source, os.path.join(target_directory, new_data['image_id'].iloc[i] + \"_8.jpg\"))\n",
        "      shutil.copy(source, os.path.join(target_directory, new_data['image_id'].iloc[i] + \"_9.jpg\"))"
      ],
      "metadata": {
        "colab": {
          "base_uri": "https://localhost:8080/"
        },
        "id": "gPj0K3Rc7OYS",
        "outputId": "4cfc70a0-f3a9-464f-9bb0-7caee7406eb9"
      },
      "execution_count": null,
      "outputs": [
        {
          "output_type": "stream",
          "name": "stderr",
          "text": [
            "100%|██████████| 1096/1096 [08:26<00:00,  2.16it/s]\n"
          ]
        }
      ]
    },
    {
      "cell_type": "code",
      "source": [
        "# Data profiling to see if the sub-directories (classes) contain the expected images after downsampling (class 0) and synthesis (class 1)\n",
        "import os\n",
        "for dir in os.listdir(target_maindir):\n",
        "  print(dir, len(os.listdir(os.path.join(target_maindir, dir))))"
      ],
      "metadata": {
        "colab": {
          "base_uri": "https://localhost:8080/"
        },
        "id": "fmwpF7No7dYM",
        "outputId": "ae7d268a-cf97-448b-c503-7222ebc90db2"
      },
      "execution_count": null,
      "outputs": [
        {
          "output_type": "stream",
          "name": "stdout",
          "text": [
            "0 999\n",
            "1 960\n"
          ]
        }
      ]
    },
    {
      "cell_type": "code",
      "source": [
        "#####################################################################################################\n",
        "############################################# Create TRAINING and VALIDATION Datasets################\n",
        "#####################################################################################################\n",
        "from tqdm import tqdm\n",
        "import tensorflow as tf\n",
        "import numpy as np\n",
        "from sklearn.utils.class_weight import compute_class_weight\n",
        "from tensorflow.keras import layers\n",
        "from tensorflow.keras.models import Sequential\n",
        "\n",
        "# Define the target size of images and batch size\n",
        "img_height = 224\n",
        "img_width = 224\n",
        "batch_size = 32\n",
        "\n",
        "# For just 2 classes (class 0 and class 1), use binary which will yield a single number as output. This is a probability in the 0 to 1 range.\n",
        "# e.g. 0.69 is 69% probability of 1 (class 1. i.e. with disease)\n",
        "if num_classes <= 2:\n",
        "  label_mode = 'binary'\n",
        "# For more than 2 classes (DR_ICDR for diabetic retinopathy classes - class 0, 1, 2, 3, 4), use categorical which will yield probabilities for each class\n",
        "else:\n",
        "  label_mode = 'categorical'\n",
        "\n",
        "# Train/test split: Training dataset from the target directory containing the sub-directories (class 0, 1). Leave 20% (0.2) for validation dataset\n",
        "train_ds = tf.keras.utils.image_dataset_from_directory(\n",
        "  target_maindir,\n",
        "  validation_split=0.2,\n",
        "  subset=\"training\",\n",
        "  seed=123,\n",
        "  image_size=(img_height, img_width),\n",
        "  label_mode=label_mode,\n",
        "  batch_size=batch_size)\n",
        "\n",
        "# Train/test split: Validation dataset from the target directory containing the sub-directories (class 0, 1).\n",
        "# True performance of an AI model is based on how it does on non-training (unseen) data. So save some for validation later.\n",
        "val_ds = tf.keras.utils.image_dataset_from_directory(\n",
        "  target_maindir,\n",
        "  validation_split=0.2,\n",
        "  subset=\"validation\",\n",
        "  seed=123,\n",
        "  label_mode=label_mode,\n",
        "  image_size=(img_height, img_width),\n",
        "  batch_size=batch_size)\n",
        "\n",
        "# Define the augmentation layer to introduce random variations into each image\n",
        "data_augmentation = Sequential([\n",
        "  layers.RandomFlip(\"horizontal_and_vertical\"),\n",
        "  layers.RandomRotation(0.2),\n",
        "  layers.RandomContrast(0.1),\n",
        "  layers.RandomZoom(0.1),\n",
        "  layers.RandomHeight(0.1),\n",
        "  layers.RandomWidth(0.1),\n",
        "  layers.RandomBrightness(0.1),\n",
        "  layers.RandomTranslation(0.1, 0.1),\n",
        "])\n",
        "\n",
        "# Run augmentatation function on the training dataset\n",
        "augmented_train_ds = train_ds.map(lambda x, y: (data_augmentation(x, training=True), y))\n",
        "\n",
        "# Performance boosting via Auto-tuning\n",
        "# AUTO-TUNE: number of elements to prefetch to the TensorFlow data runtime\n",
        "AUTOTUNE = tf.data.experimental.AUTOTUNE if hasattr(tf.data, 'experimental') else tf.data.AUTOTUNE\n",
        "# Use AUTOTUNE number of elements to prefetch\n",
        "augmented_train_ds = augmented_train_ds.cache().prefetch(buffer_size=AUTOTUNE)\n",
        "val_ds = val_ds.cache().prefetch(buffer_size=AUTOTUNE)\n",
        "\n",
        "# Create a normalization layer and apply it to the training and validation datasets\n",
        "# The color (RGB) values are in a range of 0-255 (256 shades of Red, Green, Blue) for each pixel\n",
        "# AI does not work well with such large numbers. Bring the range down to 0-1\n",
        "# This will result in each image be a multi-dimensional array with each value in the range 0-1.\n",
        "normalization_layer = layers.Rescaling(1./255)\n",
        "# Use the augmented training data set to create the final normalized training dataset.\n",
        "normalized_train_ds = augmented_train_ds.map(lambda x, y: (normalization_layer(x), y))\n",
        "# No augmentation required for validation dataset (that is our challenge!)\n",
        "normalized_val_ds = val_ds.map(lambda x, y: (normalization_layer(x), y))\n"
      ],
      "metadata": {
        "colab": {
          "base_uri": "https://localhost:8080/"
        },
        "id": "EX0hP6HH7eJS",
        "outputId": "53025d13-e0e0-4f77-ea9b-498f1ad890c8"
      },
      "execution_count": null,
      "outputs": [
        {
          "output_type": "stream",
          "name": "stdout",
          "text": [
            "Found 1959 files belonging to 2 classes.\n",
            "Using 1568 files for training.\n",
            "Found 1959 files belonging to 2 classes.\n",
            "Using 391 files for validation.\n"
          ]
        }
      ]
    },
    {
      "cell_type": "code",
      "source": [
        "#####################################################################################################\n",
        "######################## Define, Compile and Plot a CNN Model with MobileNet as a base ##############\n",
        "#####################################################################################################\n",
        "import tensorflow as tf\n",
        "from tensorflow import keras\n",
        "from tensorflow.keras.layers import GlobalAveragePooling2D, Dense, Dropout\n",
        "from tensorflow.keras.models import Model\n",
        "from tensorflow.keras.optimizers import Adam\n",
        "from tensorflow.keras.callbacks import EarlyStopping, ModelCheckpoint, TensorBoard\n",
        "from tensorflow.keras.models import Sequential\n",
        "import datetime\n",
        "\n",
        "# HYPERPARAMETERS\n",
        "INPUT_SHAPE = (224, 224, 3)\n",
        "LR = 4e-5\n",
        "DROPOUT = .25\n",
        "TRANSFER_DROPOUT = .25\n",
        "ALPHA = 1\n",
        "BATCH_SIZE = 32\n",
        "NUM_FREEZE = 80 #Mobilenet base layers to freeze training (i.e. no re-training)\n",
        "NUM_EPOCHS = 30\n",
        "MONITOR = 'val_recall' # Monitor validation loss\n",
        "PATIENCE = 5 # Number of epochs with no improvement after which training will be stopped\n",
        "\n",
        "# Early Stopping callback\n",
        "early_stopping = EarlyStopping(\n",
        "    monitor=MONITOR,\n",
        "    patience=PATIENCE,\n",
        "    restore_best_weights=True  # Restores model weights from the epoch with the best value of the monitored metric\n",
        ")\n",
        "\n",
        "# Model Checkpoint callback\n",
        "model_checkpoint = ModelCheckpoint(\n",
        "    model_save_path,   # Path where to save the model\n",
        "    monitor=MONITOR,  # Monitor validation loss\n",
        "    save_best_only=True  # Only save the best model\n",
        ")\n",
        "\n",
        "# Model Definition and layers\n",
        "def MobileNet(num_freeze, num_classes, **kwargs):\n",
        "    # Use MobileNet with imagenet as base (1000s of pre-trained images). Good starting point.\n",
        "    base_model = tf.keras.applications.MobileNet(input_shape=INPUT_SHAPE, weights='imagenet', include_top=False, **kwargs)\n",
        "    # We dont want to re-train the base model layers\n",
        "    for i in range(num_freeze):\n",
        "      base_model.layers[i].trainable = False\n",
        "\n",
        "    # Model definition = Base + Dense layers (transfer learning)\n",
        "    model= tf.keras.Sequential([\n",
        "        # Start with a pre-trained MobileNet base\n",
        "        base_model,\n",
        "        # Add our own dense layers to the MobileNet pre-trained base\n",
        "        # These dense layers will extract (i.e. \"learn\") disease specific features\n",
        "        GlobalAveragePooling2D(),\n",
        "        Dense(1024, activation='relu'),\n",
        "        Dropout(DROPOUT),\n",
        "        Dense(512, activation='relu'),\n",
        "        Dropout(DROPOUT),\n",
        "        Dense(256, activation='relu'),\n",
        "    ])\n",
        "    # Add the last OUTPUT layer\n",
        "    # For just 2 classes (class 0 and class 1), use binary (SIGMOID) which will yield a single number as output. This is a probability in the 0 to 1 range.\n",
        "    # e.g. 0.69 is 69% probability of 1 (class 1. i.e. with disease)\n",
        "    if num_classes <= 2:\n",
        "        model.add(Dense(1, activation='sigmoid'))\n",
        "    # For more than 2 classes (DR_ICDR for diabetic retinopathy classes - class 0, 1, 2, 3, 4)\n",
        "    # ..use SOFTMAX which will yield probabilities for each class\n",
        "    else:\n",
        "        model.add(Dense(num_classes, activation='softmax'))\n",
        "    return model\n",
        "\n",
        "# Create a Model using the above function definition\n",
        "model = MobileNet(num_freeze=NUM_FREEZE, num_classes=num_classes, dropout=TRANSFER_DROPOUT, alpha=ALPHA)\n",
        "optimizer = Adam(learning_rate=LR)\n",
        "if num_classes <= 2:\n",
        "    loss = 'binary_crossentropy'\n",
        "else:\n",
        "    loss = 'categorical_crossentropy'\n",
        "\n",
        "# Compile the model\n",
        "model.compile(\n",
        "    optimizer=optimizer,\n",
        "    loss=loss,\n",
        "    metrics=[\n",
        "        tf.keras.metrics.Precision(),\n",
        "        tf.keras.metrics.Recall(),\n",
        "        tf.keras.metrics.AUC(),\n",
        "    ]\n",
        ")\n",
        "\n",
        "# Plot the Model and save the model as a JPG image for future reference\n",
        "from keras.utils import plot_model\n",
        "model.summary()\n",
        "model_img_save_path = model_save_path + '.jpg'\n",
        "plot_model(model, to_file=model_img_save_path, show_shapes=True, show_layer_names=True)"
      ],
      "metadata": {
        "colab": {
          "base_uri": "https://localhost:8080/",
          "height": 1000
        },
        "id": "QQaTabod7hvA",
        "outputId": "ff89ecfd-3559-480f-c9c5-549654f19958"
      },
      "execution_count": null,
      "outputs": [
        {
          "output_type": "stream",
          "name": "stdout",
          "text": [
            "Model: \"sequential_3\"\n",
            "_________________________________________________________________\n",
            " Layer (type)                Output Shape              Param #   \n",
            "=================================================================\n",
            " mobilenet_1.00_224 (Functi  (None, 7, 7, 1024)        3228864   \n",
            " onal)                                                           \n",
            "                                                                 \n",
            " global_average_pooling2d_2  (None, 1024)              0         \n",
            "  (GlobalAveragePooling2D)                                       \n",
            "                                                                 \n",
            " dense_8 (Dense)             (None, 1024)              1049600   \n",
            "                                                                 \n",
            " dropout_4 (Dropout)         (None, 1024)              0         \n",
            "                                                                 \n",
            " dense_9 (Dense)             (None, 512)               524800    \n",
            "                                                                 \n",
            " dropout_5 (Dropout)         (None, 512)               0         \n",
            "                                                                 \n",
            " dense_10 (Dense)            (None, 256)               131328    \n",
            "                                                                 \n",
            " dense_11 (Dense)            (None, 1)                 257       \n",
            "                                                                 \n",
            "=================================================================\n",
            "Total params: 4934849 (18.82 MB)\n",
            "Trainable params: 2767873 (10.56 MB)\n",
            "Non-trainable params: 2166976 (8.27 MB)\n",
            "_________________________________________________________________\n"
          ]
        },
        {
          "output_type": "execute_result",
          "data": {
            "image/jpeg": "[encoded data removed]",
            "text/plain": [
              "<IPython.core.display.Image object>"
            ]
          },
          "metadata": {},
          "execution_count": 23
        }
      ]
    },
    {
      "cell_type": "code",
      "source": [
        "#####################################################################################################\n",
        "######################## Train the Model ##############\n",
        "#####################################################################################################\n",
        "# Fit the model with callbacks\n",
        "history = model.fit(\n",
        "    normalized_train_ds,\n",
        "    validation_data=normalized_val_ds,\n",
        "    epochs=NUM_EPOCHS,\n",
        "    verbose=True,\n",
        "    class_weight=None,\n",
        "    callbacks=[early_stopping, model_checkpoint]\n",
        "    #callbacks=[early_stopping, model_checkpoint,tensorboard_callback]  # Add callbacks here\n",
        ")"
      ],
      "metadata": {
        "colab": {
          "base_uri": "https://localhost:8080/"
        },
        "id": "BGrtf9i98NNL",
        "outputId": "d2f23d65-e299-4c6a-efa8-dcc6ca38a58b"
      },
      "execution_count": null,
      "outputs": [
        {
          "metadata": {
            "tags": null
          },
          "name": "stdout",
          "output_type": "stream",
          "text": [
            "Epoch 1/30\n",
            "49/49 [==============================] - ETA: 0s - loss: 0.6748 - precision_2: 0.5995 - recall_2: 0.5863 - auc_2: 0.6280"
          ]
        },
        {
          "metadata": {
            "tags": null
          },
          "name": "stderr",
          "output_type": "stream",
          "text": [
            "WARNING:tensorflow:Early stopping conditioned on metric `val_recall` which is not available. Available metrics are: loss,precision_2,recall_2,auc_2,val_loss,val_precision_2,val_recall_2,val_auc_2\n",
            "WARNING:tensorflow:Can save best model only with val_recall available, skipping.\n"
          ]
        },
        {
          "metadata": {
            "tags": null
          },
          "name": "stdout",
          "output_type": "stream",
          "text": [
            "49/49 [==============================] - 189s 4s/step - loss: 0.6748 - precision_2: 0.5995 - recall_2: 0.5863 - auc_2: 0.6280 - val_loss: 0.6623 - val_precision_2: 0.9474 - val_recall_2: 0.1905 - val_auc_2: 0.7567\n",
            "Epoch 2/30\n",
            "49/49 [==============================] - ETA: 0s - loss: 0.5718 - precision_2: 0.7267 - recall_2: 0.7069 - auc_2: 0.7844"
          ]
        },
        {
          "metadata": {
            "tags": null
          },
          "name": "stderr",
          "output_type": "stream",
          "text": [
            "WARNING:tensorflow:Early stopping conditioned on metric `val_recall` which is not available. Available metrics are: loss,precision_2,recall_2,auc_2,val_loss,val_precision_2,val_recall_2,val_auc_2\n",
            "WARNING:tensorflow:Can save best model only with val_recall available, skipping.\n"
          ]
        },
        {
          "metadata": {
            "tags": null
          },
          "name": "stdout",
          "output_type": "stream",
          "text": [
            "49/49 [==============================] - 100s 2s/step - loss: 0.5718 - precision_2: 0.7267 - recall_2: 0.7069 - auc_2: 0.7844 - val_loss: 0.6226 - val_precision_2: 0.9138 - val_recall_2: 0.2804 - val_auc_2: 0.8061\n",
            "Epoch 3/30\n",
            "49/49 [==============================] - ETA: 0s - loss: 0.5182 - precision_2: 0.7573 - recall_2: 0.7445 - auc_2: 0.8298"
          ]
        },
        {
          "metadata": {
            "tags": null
          },
          "name": "stderr",
          "output_type": "stream",
          "text": [
            "WARNING:tensorflow:Early stopping conditioned on metric `val_recall` which is not available. Available metrics are: loss,precision_2,recall_2,auc_2,val_loss,val_precision_2,val_recall_2,val_auc_2\n",
            "WARNING:tensorflow:Can save best model only with val_recall available, skipping.\n"
          ]
        },
        {
          "metadata": {
            "tags": null
          },
          "name": "stdout",
          "output_type": "stream",
          "text": [
            "49/49 [==============================] - 97s 2s/step - loss: 0.5182 - precision_2: 0.7573 - recall_2: 0.7445 - auc_2: 0.8298 - val_loss: 0.5575 - val_precision_2: 0.8396 - val_recall_2: 0.4709 - val_auc_2: 0.8262\n",
            "Epoch 4/30\n",
            "49/49 [==============================] - ETA: 0s - loss: 0.4700 - precision_2: 0.7845 - recall_2: 0.7743 - auc_2: 0.8647"
          ]
        },
        {
          "metadata": {
            "tags": null
          },
          "name": "stderr",
          "output_type": "stream",
          "text": [
            "WARNING:tensorflow:Early stopping conditioned on metric `val_recall` which is not available. Available metrics are: loss,precision_2,recall_2,auc_2,val_loss,val_precision_2,val_recall_2,val_auc_2\n",
            "WARNING:tensorflow:Can save best model only with val_recall available, skipping.\n"
          ]
        },
        {
          "metadata": {
            "tags": null
          },
          "name": "stdout",
          "output_type": "stream",
          "text": [
            "49/49 [==============================] - 94s 2s/step - loss: 0.4700 - precision_2: 0.7845 - recall_2: 0.7743 - auc_2: 0.8647 - val_loss: 0.5162 - val_precision_2: 0.7943 - val_recall_2: 0.5926 - val_auc_2: 0.8399\n",
            "Epoch 5/30\n",
            "49/49 [==============================] - ETA: 0s - loss: 0.4036 - precision_2: 0.8283 - recall_2: 0.8132 - auc_2: 0.9071"
          ]
        },
        {
          "metadata": {
            "tags": null
          },
          "name": "stderr",
          "output_type": "stream",
          "text": [
            "WARNING:tensorflow:Early stopping conditioned on metric `val_recall` which is not available. Available metrics are: loss,precision_2,recall_2,auc_2,val_loss,val_precision_2,val_recall_2,val_auc_2\n",
            "WARNING:tensorflow:Can save best model only with val_recall available, skipping.\n"
          ]
        },
        {
          "metadata": {
            "tags": null
          },
          "name": "stdout",
          "output_type": "stream",
          "text": [
            "49/49 [==============================] - 98s 2s/step - loss: 0.4036 - precision_2: 0.8283 - recall_2: 0.8132 - auc_2: 0.9071 - val_loss: 0.4850 - val_precision_2: 0.7611 - val_recall_2: 0.7249 - val_auc_2: 0.8512\n",
            "Epoch 6/30\n",
            "49/49 [==============================] - ETA: 0s - loss: 0.3550 - precision_2: 0.8660 - recall_2: 0.8379 - auc_2: 0.9319"
          ]
        },
        {
          "metadata": {
            "tags": null
          },
          "name": "stderr",
          "output_type": "stream",
          "text": [
            "WARNING:tensorflow:Early stopping conditioned on metric `val_recall` which is not available. Available metrics are: loss,precision_2,recall_2,auc_2,val_loss,val_precision_2,val_recall_2,val_auc_2\n",
            "WARNING:tensorflow:Can save best model only with val_recall available, skipping.\n"
          ]
        },
        {
          "metadata": {
            "tags": null
          },
          "name": "stdout",
          "output_type": "stream",
          "text": [
            "49/49 [==============================] - 95s 2s/step - loss: 0.3550 - precision_2: 0.8660 - recall_2: 0.8379 - auc_2: 0.9319 - val_loss: 0.4982 - val_precision_2: 0.7222 - val_recall_2: 0.8254 - val_auc_2: 0.8538\n",
            "Epoch 7/30\n",
            "49/49 [==============================] - ETA: 0s - loss: 0.2967 - precision_2: 0.8813 - recall_2: 0.8859 - auc_2: 0.9554"
          ]
        },
        {
          "metadata": {
            "tags": null
          },
          "name": "stderr",
          "output_type": "stream",
          "text": [
            "WARNING:tensorflow:Early stopping conditioned on metric `val_recall` which is not available. Available metrics are: loss,precision_2,recall_2,auc_2,val_loss,val_precision_2,val_recall_2,val_auc_2\n",
            "WARNING:tensorflow:Can save best model only with val_recall available, skipping.\n"
          ]
        },
        {
          "metadata": {
            "tags": null
          },
          "name": "stdout",
          "output_type": "stream",
          "text": [
            "49/49 [==============================] - 99s 2s/step - loss: 0.2967 - precision_2: 0.8813 - recall_2: 0.8859 - auc_2: 0.9554 - val_loss: 0.6439 - val_precision_2: 0.6293 - val_recall_2: 0.9788 - val_auc_2: 0.8558\n",
            "Epoch 8/30\n",
            "49/49 [==============================] - ETA: 0s - loss: 0.2375 - precision_2: 0.9142 - recall_2: 0.9118 - auc_2: 0.9766"
          ]
        },
        {
          "metadata": {
            "tags": null
          },
          "name": "stderr",
          "output_type": "stream",
          "text": [
            "WARNING:tensorflow:Early stopping conditioned on metric `val_recall` which is not available. Available metrics are: loss,precision_2,recall_2,auc_2,val_loss,val_precision_2,val_recall_2,val_auc_2\n",
            "WARNING:tensorflow:Can save best model only with val_recall available, skipping.\n"
          ]
        },
        {
          "metadata": {
            "tags": null
          },
          "name": "stdout",
          "output_type": "stream",
          "text": [
            "49/49 [==============================] - 100s 2s/step - loss: 0.2375 - precision_2: 0.9142 - recall_2: 0.9118 - auc_2: 0.9766 - val_loss: 0.7174 - val_precision_2: 0.6208 - val_recall_2: 0.9788 - val_auc_2: 0.8607\n",
            "Epoch 9/30\n",
            "49/49 [==============================] - ETA: 0s - loss: 0.1887 - precision_2: 0.9321 - recall_2: 0.9442 - auc_2: 0.9866"
          ]
        },
        {
          "metadata": {
            "tags": null
          },
          "name": "stderr",
          "output_type": "stream",
          "text": [
            "WARNING:tensorflow:Early stopping conditioned on metric `val_recall` which is not available. Available metrics are: loss,precision_2,recall_2,auc_2,val_loss,val_precision_2,val_recall_2,val_auc_2\n",
            "WARNING:tensorflow:Can save best model only with val_recall available, skipping.\n"
          ]
        },
        {
          "metadata": {
            "tags": null
          },
          "name": "stdout",
          "output_type": "stream",
          "text": [
            "49/49 [==============================] - 100s 2s/step - loss: 0.1887 - precision_2: 0.9321 - recall_2: 0.9442 - auc_2: 0.9866 - val_loss: 0.6968 - val_precision_2: 0.6307 - val_recall_2: 0.9577 - val_auc_2: 0.8623\n",
            "Epoch 10/30\n",
            "49/49 [==============================] - ETA: 0s - loss: 0.1445 - precision_2: 0.9596 - recall_2: 0.9546 - auc_2: 0.9933"
          ]
        },
        {
          "metadata": {
            "tags": null
          },
          "name": "stderr",
          "output_type": "stream",
          "text": [
            "WARNING:tensorflow:Early stopping conditioned on metric `val_recall` which is not available. Available metrics are: loss,precision_2,recall_2,auc_2,val_loss,val_precision_2,val_recall_2,val_auc_2\n",
            "WARNING:tensorflow:Can save best model only with val_recall available, skipping.\n"
          ]
        },
        {
          "metadata": {
            "tags": null
          },
          "name": "stdout",
          "output_type": "stream",
          "text": [
            "49/49 [==============================] - 99s 2s/step - loss: 0.1445 - precision_2: 0.9596 - recall_2: 0.9546 - auc_2: 0.9933 - val_loss: 0.7802 - val_precision_2: 0.6293 - val_recall_2: 0.9788 - val_auc_2: 0.8596\n",
            "Epoch 11/30\n",
            "49/49 [==============================] - ETA: 0s - loss: 0.0997 - precision_2: 0.9743 - recall_2: 0.9831 - auc_2: 0.9981"
          ]
        },
        {
          "metadata": {
            "tags": null
          },
          "name": "stderr",
          "output_type": "stream",
          "text": [
            "WARNING:tensorflow:Early stopping conditioned on metric `val_recall` which is not available. Available metrics are: loss,precision_2,recall_2,auc_2,val_loss,val_precision_2,val_recall_2,val_auc_2\n",
            "WARNING:tensorflow:Can save best model only with val_recall available, skipping.\n"
          ]
        },
        {
          "metadata": {
            "tags": null
          },
          "name": "stdout",
          "output_type": "stream",
          "text": [
            "49/49 [==============================] - 95s 2s/step - loss: 0.0997 - precision_2: 0.9743 - recall_2: 0.9831 - auc_2: 0.9981 - val_loss: 0.6515 - val_precision_2: 0.6822 - val_recall_2: 0.9312 - val_auc_2: 0.8595\n",
            "Epoch 12/30\n",
            "49/49 [==============================] - ETA: 0s - loss: 0.0717 - precision_2: 0.9922 - recall_2: 0.9857 - auc_2: 0.9993"
          ]
        },
        {
          "metadata": {
            "tags": null
          },
          "name": "stderr",
          "output_type": "stream",
          "text": [
            "WARNING:tensorflow:Early stopping conditioned on metric `val_recall` which is not available. Available metrics are: loss,precision_2,recall_2,auc_2,val_loss,val_precision_2,val_recall_2,val_auc_2\n",
            "WARNING:tensorflow:Can save best model only with val_recall available, skipping.\n"
          ]
        },
        {
          "metadata": {
            "tags": null
          },
          "name": "stdout",
          "output_type": "stream",
          "text": [
            "49/49 [==============================] - 108s 2s/step - loss: 0.0717 - precision_2: 0.9922 - recall_2: 0.9857 - auc_2: 0.9993 - val_loss: 0.5520 - val_precision_2: 0.7204 - val_recall_2: 0.8042 - val_auc_2: 0.8629\n",
            "Epoch 13/30\n",
            "49/49 [==============================] - ETA: 0s - loss: 0.0603 - precision_2: 0.9922 - recall_2: 0.9857 - auc_2: 0.9996"
          ]
        },
        {
          "metadata": {
            "tags": null
          },
          "name": "stderr",
          "output_type": "stream",
          "text": [
            "WARNING:tensorflow:Early stopping conditioned on metric `val_recall` which is not available. Available metrics are: loss,precision_2,recall_2,auc_2,val_loss,val_precision_2,val_recall_2,val_auc_2\n",
            "WARNING:tensorflow:Can save best model only with val_recall available, skipping.\n"
          ]
        },
        {
          "metadata": {
            "tags": null
          },
          "name": "stdout",
          "output_type": "stream",
          "text": [
            "49/49 [==============================] - 99s 2s/step - loss: 0.0603 - precision_2: 0.9922 - recall_2: 0.9857 - auc_2: 0.9996 - val_loss: 0.5741 - val_precision_2: 0.7400 - val_recall_2: 0.7831 - val_auc_2: 0.8614\n",
            "Epoch 14/30\n",
            "49/49 [==============================] - ETA: 0s - loss: 0.0464 - precision_2: 0.9884 - recall_2: 0.9935 - auc_2: 0.9997"
          ]
        },
        {
          "metadata": {
            "tags": null
          },
          "name": "stderr",
          "output_type": "stream",
          "text": [
            "WARNING:tensorflow:Early stopping conditioned on metric `val_recall` which is not available. Available metrics are: loss,precision_2,recall_2,auc_2,val_loss,val_precision_2,val_recall_2,val_auc_2\n",
            "WARNING:tensorflow:Can save best model only with val_recall available, skipping.\n"
          ]
        },
        {
          "metadata": {
            "tags": null
          },
          "name": "stdout",
          "output_type": "stream",
          "text": [
            "49/49 [==============================] - 99s 2s/step - loss: 0.0464 - precision_2: 0.9884 - recall_2: 0.9935 - auc_2: 0.9997 - val_loss: 0.5967 - val_precision_2: 0.7308 - val_recall_2: 0.8042 - val_auc_2: 0.8581\n",
            "Epoch 15/30\n",
            "49/49 [==============================] - ETA: 0s - loss: 0.0424 - precision_2: 0.9948 - recall_2: 0.9870 - auc_2: 0.9997"
          ]
        },
        {
          "metadata": {
            "tags": null
          },
          "name": "stderr",
          "output_type": "stream",
          "text": [
            "WARNING:tensorflow:Early stopping conditioned on metric `val_recall` which is not available. Available metrics are: loss,precision_2,recall_2,auc_2,val_loss,val_precision_2,val_recall_2,val_auc_2\n",
            "WARNING:tensorflow:Can save best model only with val_recall available, skipping.\n"
          ]
        },
        {
          "metadata": {
            "tags": null
          },
          "name": "stdout",
          "output_type": "stream",
          "text": [
            "49/49 [==============================] - 101s 2s/step - loss: 0.0424 - precision_2: 0.9948 - recall_2: 0.9870 - auc_2: 0.9997 - val_loss: 0.6662 - val_precision_2: 0.7051 - val_recall_2: 0.8095 - val_auc_2: 0.8561\n",
            "Epoch 16/30\n",
            "49/49 [==============================] - ETA: 0s - loss: 0.0280 - precision_2: 0.9974 - recall_2: 0.9935 - auc_2: 0.9999"
          ]
        },
        {
          "metadata": {
            "tags": null
          },
          "name": "stderr",
          "output_type": "stream",
          "text": [
            "WARNING:tensorflow:Early stopping conditioned on metric `val_recall` which is not available. Available metrics are: loss,precision_2,recall_2,auc_2,val_loss,val_precision_2,val_recall_2,val_auc_2\n",
            "WARNING:tensorflow:Can save best model only with val_recall available, skipping.\n"
          ]
        },
        {
          "metadata": {
            "tags": null
          },
          "name": "stdout",
          "output_type": "stream",
          "text": [
            "49/49 [==============================] - 97s 2s/step - loss: 0.0280 - precision_2: 0.9974 - recall_2: 0.9935 - auc_2: 0.9999 - val_loss: 0.8404 - val_precision_2: 0.6721 - val_recall_2: 0.8677 - val_auc_2: 0.8488\n",
            "Epoch 17/30\n",
            "49/49 [==============================] - ETA: 0s - loss: 0.0140 - precision_2: 0.9974 - recall_2: 1.0000 - auc_2: 1.0000"
          ]
        },
        {
          "metadata": {
            "tags": null
          },
          "name": "stderr",
          "output_type": "stream",
          "text": [
            "WARNING:tensorflow:Early stopping conditioned on metric `val_recall` which is not available. Available metrics are: loss,precision_2,recall_2,auc_2,val_loss,val_precision_2,val_recall_2,val_auc_2\n",
            "WARNING:tensorflow:Can save best model only with val_recall available, skipping.\n"
          ]
        },
        {
          "metadata": {
            "tags": null
          },
          "name": "stdout",
          "output_type": "stream",
          "text": [
            "49/49 [==============================] - 103s 2s/step - loss: 0.0140 - precision_2: 0.9974 - recall_2: 1.0000 - auc_2: 1.0000 - val_loss: 0.7146 - val_precision_2: 0.7009 - val_recall_2: 0.8307 - val_auc_2: 0.8642\n",
            "Epoch 18/30\n",
            "49/49 [==============================] - ETA: 0s - loss: 0.0110 - precision_2: 0.9987 - recall_2: 1.0000 - auc_2: 1.0000"
          ]
        },
        {
          "metadata": {
            "tags": null
          },
          "name": "stderr",
          "output_type": "stream",
          "text": [
            "WARNING:tensorflow:Early stopping conditioned on metric `val_recall` which is not available. Available metrics are: loss,precision_2,recall_2,auc_2,val_loss,val_precision_2,val_recall_2,val_auc_2\n",
            "WARNING:tensorflow:Can save best model only with val_recall available, skipping.\n"
          ]
        },
        {
          "metadata": {
            "tags": null
          },
          "name": "stdout",
          "output_type": "stream",
          "text": [
            "49/49 [==============================] - 96s 2s/step - loss: 0.0110 - precision_2: 0.9987 - recall_2: 1.0000 - auc_2: 1.0000 - val_loss: 0.7331 - val_precision_2: 0.7035 - val_recall_2: 0.8413 - val_auc_2: 0.8578\n",
            "Epoch 19/30\n",
            "49/49 [==============================] - ETA: 0s - loss: 0.0090 - precision_2: 1.0000 - recall_2: 1.0000 - auc_2: 1.0000"
          ]
        },
        {
          "metadata": {
            "tags": null
          },
          "name": "stderr",
          "output_type": "stream",
          "text": [
            "WARNING:tensorflow:Early stopping conditioned on metric `val_recall` which is not available. Available metrics are: loss,precision_2,recall_2,auc_2,val_loss,val_precision_2,val_recall_2,val_auc_2\n",
            "WARNING:tensorflow:Can save best model only with val_recall available, skipping.\n"
          ]
        },
        {
          "metadata": {
            "tags": null
          },
          "name": "stdout",
          "output_type": "stream",
          "text": [
            "49/49 [==============================] - 100s 2s/step - loss: 0.0090 - precision_2: 1.0000 - recall_2: 1.0000 - auc_2: 1.0000 - val_loss: 0.7346 - val_precision_2: 0.7067 - val_recall_2: 0.8413 - val_auc_2: 0.8587\n",
            "Epoch 20/30\n",
            "49/49 [==============================] - ETA: 0s - loss: 0.0069 - precision_2: 0.9987 - recall_2: 1.0000 - auc_2: 1.0000"
          ]
        },
        {
          "metadata": {
            "tags": null
          },
          "name": "stderr",
          "output_type": "stream",
          "text": [
            "WARNING:tensorflow:Early stopping conditioned on metric `val_recall` which is not available. Available metrics are: loss,precision_2,recall_2,auc_2,val_loss,val_precision_2,val_recall_2,val_auc_2\n",
            "WARNING:tensorflow:Can save best model only with val_recall available, skipping.\n"
          ]
        },
        {
          "output_type": "stream",
          "name": "stdout",
          "text": [
            "49/49 [==============================] - 98s 2s/step - loss: 0.0069 - precision_2: 0.9987 - recall_2: 1.0000 - auc_2: 1.0000 - val_loss: 0.6960 - val_precision_2: 0.7617 - val_recall_2: 0.7778 - val_auc_2: 0.8526\n",
            "Epoch 21/30\n",
            "49/49 [==============================] - ETA: 0s - loss: 0.0066 - precision_2: 1.0000 - recall_2: 1.0000 - auc_2: 1.0000"
          ]
        },
        {
          "output_type": "stream",
          "name": "stderr",
          "text": [
            "WARNING:tensorflow:Early stopping conditioned on metric `val_recall` which is not available. Available metrics are: loss,precision_2,recall_2,auc_2,val_loss,val_precision_2,val_recall_2,val_auc_2\n",
            "WARNING:tensorflow:Can save best model only with val_recall available, skipping.\n"
          ]
        },
        {
          "output_type": "stream",
          "name": "stdout",
          "text": [
            "\b\b\b\b\b\b\b\b\b\b\b\b\b\b\b\b\b\b\b\b\b\b\b\b\b\b\b\b\b\b\b\b\b\b\b\b\b\b\b\b\b\b\b\b\b\b\b\b\b\b\b\b\b\b\b\b\b\b\b\b\b\b\b\b\b\b\b\b\b\b\b\b\b\b\b\b\b\b\b\b\b\b\b\b\b\b\b\b\b\b\b\b\b\b\b\b\b\b\b\b\b\b\b\b\b\b\b\b\b\b\b\b\b\b\b\b\b\b\b\b\r49/49 [==============================] - 123s 3s/step - loss: 0.0066 - precision_2: 1.0000 - recall_2: 1.0000 - auc_2: 1.0000 - val_loss: 0.7015 - val_precision_2: 0.7513 - val_recall_2: 0.7831 - val_auc_2: 0.8564\n",
            "Epoch 22/30\n",
            "49/49 [==============================] - ETA: 0s - loss: 0.0046 - precision_2: 1.0000 - recall_2: 1.0000 - auc_2: 1.0000"
          ]
        },
        {
          "output_type": "stream",
          "name": "stderr",
          "text": [
            "WARNING:tensorflow:Early stopping conditioned on metric `val_recall` which is not available. Available metrics are: loss,precision_2,recall_2,auc_2,val_loss,val_precision_2,val_recall_2,val_auc_2\n",
            "WARNING:tensorflow:Can save best model only with val_recall available, skipping.\n"
          ]
        },
        {
          "output_type": "stream",
          "name": "stdout",
          "text": [
            "\b\b\b\b\b\b\b\b\b\b\b\b\b\b\b\b\b\b\b\b\b\b\b\b\b\b\b\b\b\b\b\b\b\b\b\b\b\b\b\b\b\b\b\b\b\b\b\b\b\b\b\b\b\b\b\b\b\b\b\b\b\b\b\b\b\b\b\b\b\b\b\b\b\b\b\b\b\b\b\b\b\b\b\b\b\b\b\b\b\b\b\b\b\b\b\b\b\b\b\b\b\b\b\b\b\b\b\b\b\b\b\b\b\b\b\b\b\b\b\b\r49/49 [==============================] - 96s 2s/step - loss: 0.0046 - precision_2: 1.0000 - recall_2: 1.0000 - auc_2: 1.0000 - val_loss: 0.7181 - val_precision_2: 0.7475 - val_recall_2: 0.7831 - val_auc_2: 0.8514\n",
            "Epoch 23/30\n",
            "49/49 [==============================] - ETA: 0s - loss: 0.0057 - precision_2: 1.0000 - recall_2: 0.9974 - auc_2: 1.0000"
          ]
        },
        {
          "output_type": "stream",
          "name": "stderr",
          "text": [
            "WARNING:tensorflow:Early stopping conditioned on metric `val_recall` which is not available. Available metrics are: loss,precision_2,recall_2,auc_2,val_loss,val_precision_2,val_recall_2,val_auc_2\n",
            "WARNING:tensorflow:Can save best model only with val_recall available, skipping.\n"
          ]
        },
        {
          "output_type": "stream",
          "name": "stdout",
          "text": [
            "\b\b\b\b\b\b\b\b\b\b\b\b\b\b\b\b\b\b\b\b\b\b\b\b\b\b\b\b\b\b\b\b\b\b\b\b\b\b\b\b\b\b\b\b\b\b\b\b\b\b\b\b\b\b\b\b\b\b\b\b\b\b\b\b\b\b\b\b\b\b\b\b\b\b\b\b\b\b\b\b\b\b\b\b\b\b\b\b\b\b\b\b\b\b\b\b\b\b\b\b\b\b\b\b\b\b\b\b\b\b\b\b\b\b\b\b\b\b\b\b\r49/49 [==============================] - 102s 2s/step - loss: 0.0057 - precision_2: 1.0000 - recall_2: 0.9974 - auc_2: 1.0000 - val_loss: 0.8871 - val_precision_2: 0.6833 - val_recall_2: 0.8677 - val_auc_2: 0.8455\n",
            "Epoch 24/30\n",
            "49/49 [==============================] - ETA: 0s - loss: 0.0045 - precision_2: 1.0000 - recall_2: 1.0000 - auc_2: 1.0000"
          ]
        },
        {
          "output_type": "stream",
          "name": "stderr",
          "text": [
            "WARNING:tensorflow:Early stopping conditioned on metric `val_recall` which is not available. Available metrics are: loss,precision_2,recall_2,auc_2,val_loss,val_precision_2,val_recall_2,val_auc_2\n",
            "WARNING:tensorflow:Can save best model only with val_recall available, skipping.\n"
          ]
        },
        {
          "output_type": "stream",
          "name": "stdout",
          "text": [
            "\b\b\b\b\b\b\b\b\b\b\b\b\b\b\b\b\b\b\b\b\b\b\b\b\b\b\b\b\b\b\b\b\b\b\b\b\b\b\b\b\b\b\b\b\b\b\b\b\b\b\b\b\b\b\b\b\b\b\b\b\b\b\b\b\b\b\b\b\b\b\b\b\b\b\b\b\b\b\b\b\b\b\b\b\b\b\b\b\b\b\b\b\b\b\b\b\b\b\b\b\b\b\b\b\b\b\b\b\b\b\b\b\b\b\b\b\b\b\b\b\r49/49 [==============================] - 100s 2s/step - loss: 0.0045 - precision_2: 1.0000 - recall_2: 1.0000 - auc_2: 1.0000 - val_loss: 0.7601 - val_precision_2: 0.7462 - val_recall_2: 0.7778 - val_auc_2: 0.8523\n",
            "Epoch 25/30\n",
            "49/49 [==============================] - ETA: 0s - loss: 0.0037 - precision_2: 1.0000 - recall_2: 1.0000 - auc_2: 1.0000"
          ]
        },
        {
          "output_type": "stream",
          "name": "stderr",
          "text": [
            "WARNING:tensorflow:Early stopping conditioned on metric `val_recall` which is not available. Available metrics are: loss,precision_2,recall_2,auc_2,val_loss,val_precision_2,val_recall_2,val_auc_2\n",
            "WARNING:tensorflow:Can save best model only with val_recall available, skipping.\n"
          ]
        },
        {
          "output_type": "stream",
          "name": "stdout",
          "text": [
            "\b\b\b\b\b\b\b\b\b\b\b\b\b\b\b\b\b\b\b\b\b\b\b\b\b\b\b\b\b\b\b\b\b\b\b\b\b\b\b\b\b\b\b\b\b\b\b\b\b\b\b\b\b\b\b\b\b\b\b\b\b\b\b\b\b\b\b\b\b\b\b\b\b\b\b\b\b\b\b\b\b\b\b\b\b\b\b\b\b\b\b\b\b\b\b\b\b\b\b\b\b\b\b\b\b\b\b\b\b\b\b\b\b\b\b\b\b\b\b\b\r49/49 [==============================] - 99s 2s/step - loss: 0.0037 - precision_2: 1.0000 - recall_2: 1.0000 - auc_2: 1.0000 - val_loss: 0.8225 - val_precision_2: 0.6978 - val_recall_2: 0.8307 - val_auc_2: 0.8511\n",
            "Epoch 26/30\n",
            "49/49 [==============================] - ETA: 0s - loss: 0.0040 - precision_2: 0.9987 - recall_2: 1.0000 - auc_2: 1.0000"
          ]
        },
        {
          "output_type": "stream",
          "name": "stderr",
          "text": [
            "WARNING:tensorflow:Early stopping conditioned on metric `val_recall` which is not available. Available metrics are: loss,precision_2,recall_2,auc_2,val_loss,val_precision_2,val_recall_2,val_auc_2\n",
            "WARNING:tensorflow:Can save best model only with val_recall available, skipping.\n"
          ]
        },
        {
          "output_type": "stream",
          "name": "stdout",
          "text": [
            "\b\b\b\b\b\b\b\b\b\b\b\b\b\b\b\b\b\b\b\b\b\b\b\b\b\b\b\b\b\b\b\b\b\b\b\b\b\b\b\b\b\b\b\b\b\b\b\b\b\b\b\b\b\b\b\b\b\b\b\b\b\b\b\b\b\b\b\b\b\b\b\b\b\b\b\b\b\b\b\b\b\b\b\b\b\b\b\b\b\b\b\b\b\b\b\b\b\b\b\b\b\b\b\b\b\b\b\b\b\b\b\b\b\b\b\b\b\b\b\b\r49/49 [==============================] - 101s 2s/step - loss: 0.0040 - precision_2: 0.9987 - recall_2: 1.0000 - auc_2: 1.0000 - val_loss: 0.8508 - val_precision_2: 0.7027 - val_recall_2: 0.8254 - val_auc_2: 0.8458\n",
            "Epoch 27/30\n",
            "49/49 [==============================] - ETA: 0s - loss: 0.0031 - precision_2: 1.0000 - recall_2: 1.0000 - auc_2: 1.0000"
          ]
        },
        {
          "output_type": "stream",
          "name": "stderr",
          "text": [
            "WARNING:tensorflow:Early stopping conditioned on metric `val_recall` which is not available. Available metrics are: loss,precision_2,recall_2,auc_2,val_loss,val_precision_2,val_recall_2,val_auc_2\n",
            "WARNING:tensorflow:Can save best model only with val_recall available, skipping.\n"
          ]
        },
        {
          "output_type": "stream",
          "name": "stdout",
          "text": [
            "\b\b\b\b\b\b\b\b\b\b\b\b\b\b\b\b\b\b\b\b\b\b\b\b\b\b\b\b\b\b\b\b\b\b\b\b\b\b\b\b\b\b\b\b\b\b\b\b\b\b\b\b\b\b\b\b\b\b\b\b\b\b\b\b\b\b\b\b\b\b\b\b\b\b\b\b\b\b\b\b\b\b\b\b\b\b\b\b\b\b\b\b\b\b\b\b\b\b\b\b\b\b\b\b\b\b\b\b\b\b\b\b\b\b\b\b\b\b\b\b\r49/49 [==============================] - 99s 2s/step - loss: 0.0031 - precision_2: 1.0000 - recall_2: 1.0000 - auc_2: 1.0000 - val_loss: 0.8933 - val_precision_2: 0.6996 - val_recall_2: 0.8624 - val_auc_2: 0.8447\n",
            "Epoch 28/30\n",
            "49/49 [==============================] - ETA: 0s - loss: 0.0031 - precision_2: 1.0000 - recall_2: 1.0000 - auc_2: 1.0000"
          ]
        },
        {
          "output_type": "stream",
          "name": "stderr",
          "text": [
            "WARNING:tensorflow:Early stopping conditioned on metric `val_recall` which is not available. Available metrics are: loss,precision_2,recall_2,auc_2,val_loss,val_precision_2,val_recall_2,val_auc_2\n",
            "WARNING:tensorflow:Can save best model only with val_recall available, skipping.\n"
          ]
        },
        {
          "output_type": "stream",
          "name": "stdout",
          "text": [
            "\b\b\b\b\b\b\b\b\b\b\b\b\b\b\b\b\b\b\b\b\b\b\b\b\b\b\b\b\b\b\b\b\b\b\b\b\b\b\b\b\b\b\b\b\b\b\b\b\b\b\b\b\b\b\b\b\b\b\b\b\b\b\b\b\b\b\b\b\b\b\b\b\b\b\b\b\b\b\b\b\b\b\b\b\b\b\b\b\b\b\b\b\b\b\b\b\b\b\b\b\b\b\b\b\b\b\b\b\b\b\b\b\b\b\b\b\b\b\b\b\r49/49 [==============================] - 100s 2s/step - loss: 0.0031 - precision_2: 1.0000 - recall_2: 1.0000 - auc_2: 1.0000 - val_loss: 1.0101 - val_precision_2: 0.6870 - val_recall_2: 0.8942 - val_auc_2: 0.8410\n",
            "Epoch 29/30\n",
            "49/49 [==============================] - ETA: 0s - loss: 0.0024 - precision_2: 1.0000 - recall_2: 1.0000 - auc_2: 1.0000"
          ]
        },
        {
          "output_type": "stream",
          "name": "stderr",
          "text": [
            "WARNING:tensorflow:Early stopping conditioned on metric `val_recall` which is not available. Available metrics are: loss,precision_2,recall_2,auc_2,val_loss,val_precision_2,val_recall_2,val_auc_2\n",
            "WARNING:tensorflow:Can save best model only with val_recall available, skipping.\n"
          ]
        },
        {
          "output_type": "stream",
          "name": "stdout",
          "text": [
            "\b\b\b\b\b\b\b\b\b\b\b\b\b\b\b\b\b\b\b\b\b\b\b\b\b\b\b\b\b\b\b\b\b\b\b\b\b\b\b\b\b\b\b\b\b\b\b\b\b\b\b\b\b\b\b\b\b\b\b\b\b\b\b\b\b\b\b\b\b\b\b\b\b\b\b\b\b\b\b\b\b\b\b\b\b\b\b\b\b\b\b\b\b\b\b\b\b\b\b\b\b\b\b\b\b\b\b\b\b\b\b\b\b\b\b\b\b\b\b\b\r49/49 [==============================] - 101s 2s/step - loss: 0.0024 - precision_2: 1.0000 - recall_2: 1.0000 - auc_2: 1.0000 - val_loss: 0.9533 - val_precision_2: 0.6894 - val_recall_2: 0.8571 - val_auc_2: 0.8451\n",
            "Epoch 30/30\n",
            "49/49 [==============================] - ETA: 0s - loss: 0.0022 - precision_2: 1.0000 - recall_2: 1.0000 - auc_2: 1.0000"
          ]
        },
        {
          "output_type": "stream",
          "name": "stderr",
          "text": [
            "WARNING:tensorflow:Early stopping conditioned on metric `val_recall` which is not available. Available metrics are: loss,precision_2,recall_2,auc_2,val_loss,val_precision_2,val_recall_2,val_auc_2\n",
            "WARNING:tensorflow:Can save best model only with val_recall available, skipping.\n"
          ]
        },
        {
          "output_type": "stream",
          "name": "stdout",
          "text": [
            "\b\b\b\b\b\b\b\b\b\b\b\b\b\b\b\b\b\b\b\b\b\b\b\b\b\b\b\b\b\b\b\b\b\b\b\b\b\b\b\b\b\b\b\b\b\b\b\b\b\b\b\b\b\b\b\b\b\b\b\b\b\b\b\b\b\b\b\b\b\b\b\b\b\b\b\b\b\b\b\b\b\b\b\b\b\b\b\b\b\b\b\b\b\b\b\b\b\b\b\b\b\b\b\b\b\b\b\b\b\b\b\b\b\b\b\b\b\b\b\b\r49/49 [==============================] - 98s 2s/step - loss: 0.0022 - precision_2: 1.0000 - recall_2: 1.0000 - auc_2: 1.0000 - val_loss: 0.9483 - val_precision_2: 0.6926 - val_recall_2: 0.8466 - val_auc_2: 0.8465\n"
          ]
        }
      ]
    },
    {
      "cell_type": "code",
      "source": [
        "#####################################################################################################\n",
        "######################## Plot the Training Results metrics (Precision, Recall, etc.) ##############\n",
        "#####################################################################################################\n",
        "import matplotlib.pyplot as plt\n",
        "\n",
        "metric_keys = list(history.history.keys())\n",
        "num_metrics = len(metric_keys) // 2  # Assuming there's a validation metric for each training metric\n",
        "epochs_range = range(len(history.history[metric_keys[0]]))  # Number of epochs\n",
        "\n",
        "# Calculate the number of rows needed (each row contains plots for one metric and its validation counterpart)\n",
        "num_rows = (num_metrics + 1) // 2 if num_metrics % 2 != 0 else num_metrics // 2\n",
        "\n",
        "plt.figure(figsize=(12, 4 * num_rows))  # Adjust the figure size\n",
        "\n",
        "for i in range(num_metrics):\n",
        "    metric = metric_keys[i]\n",
        "    val_metric = metric_keys[i + num_metrics]  # Validation metric corresponding to the training metric\n",
        "\n",
        "    plt.subplot(num_rows, 2, i + 1)\n",
        "    plt.plot(epochs_range, history.history[metric], label=f'Training {metric}')\n",
        "    plt.plot(epochs_range, history.history[val_metric], label=f'Validation {metric}')\n",
        "    plt.legend(loc='best')\n",
        "    plt.title(f'Training and Validation {metric}')\n",
        "\n",
        "plt.tight_layout()\n",
        "plt.show()\n"
      ],
      "metadata": {
        "colab": {
          "base_uri": "https://localhost:8080/",
          "height": 807
        },
        "id": "RT6dI1bg8SNx",
        "outputId": "f89d4879-f7d7-48d2-b1a3-ed1ee12f5bd5"
      },
      "execution_count": null,
      "outputs": [
        {
          "output_type": "display_data",
          "data": {
            "text/plain": [
              "<Figure size 1200x800 with 4 Axes>"
            ],
            "image/png": "[encoded data removed]"
          },
          "metadata": {}
        }
      ]
    },
    {
      "cell_type": "code",
      "source": [
        "#####################################################################################################\n",
        "######################## Plot the Confusion Matrix (FP, FN, TP, TN) and Classification Report #######\n",
        "# FP: False Positive (Precision is a metric that tells how little false positives you have)\n",
        "# FN: False Negative (Recall is a metric that tells how little false negatives you have)\n",
        "# TP: True Positive\n",
        "# TN: True Negative\n",
        "#####################################################################################################\n",
        "from sklearn.metrics import confusion_matrix, classification_report\n",
        "from tensorflow.keras.models import load_model\n",
        "from sklearn.metrics import confusion_matrix, classification_report, ConfusionMatrixDisplay\n",
        "import numpy as np\n",
        "import seaborn as sns\n",
        "import matplotlib.pyplot as plt\n",
        "\n",
        "# Lower thresholds will improve recall (few FN) and higher ones will improve precision (few FP)\n",
        "threshold = 0.28 #ADJUST based on model and disease. > threshold will be considered as 1!\n",
        "# Load the model\n",
        "model = load_model(model_save_path)\n",
        "\n",
        "# COnfusion Matrix\n",
        "# Prepare true labels\n",
        "y_true = np.concatenate([y for x, y in normalized_val_ds], axis=0)\n",
        "if num_classes > 2:\n",
        "  y_true = np.argmax(y_true, axis=1)\n",
        "# Make predictions\n",
        "predictions = model.predict(normalized_val_ds)\n",
        "if num_classes > 2:\n",
        "  predictions = np.argmax(predictions, axis=1)\n",
        "predictions = (np.squeeze(predictions) > threshold).astype(int)\n",
        "disp = ConfusionMatrixDisplay.from_predictions(y_true, predictions)\n",
        "disp.figure_.suptitle(\"Confusion Matrix\")\n",
        "plt.show()\n",
        "# Classification Report\n",
        "print(classification_report(y_true, predictions))"
      ],
      "metadata": {
        "colab": {
          "base_uri": "https://localhost:8080/",
          "height": 350
        },
        "id": "7512xIP98T8D",
        "outputId": "bbaf4f31-fd75-4552-eb52-6fd0345d6f1c"
      },
      "execution_count": null,
      "outputs": [
        {
          "output_type": "error",
          "ename": "OSError",
          "evalue": "No file or directory found at /content/drive/MyDrive/AI/Models/hemorrhage02122024.h5",
          "traceback": [
            "\u001b[0;31m---------------------------------------------------------------------------\u001b[0m",
            "\u001b[0;31mOSError\u001b[0m                                   Traceback (most recent call last)",
            "\u001b[0;32m<ipython-input-26-3c3766a930ef>\u001b[0m in \u001b[0;36m<cell line: 18>\u001b[0;34m()\u001b[0m\n\u001b[1;32m     16\u001b[0m \u001b[0mthreshold\u001b[0m \u001b[0;34m=\u001b[0m \u001b[0;36m0.28\u001b[0m \u001b[0;31m#ADJUST based on model and disease. > threshold will be considered as 1!\u001b[0m\u001b[0;34m\u001b[0m\u001b[0;34m\u001b[0m\u001b[0m\n\u001b[1;32m     17\u001b[0m \u001b[0;31m# Load the model\u001b[0m\u001b[0;34m\u001b[0m\u001b[0;34m\u001b[0m\u001b[0m\n\u001b[0;32m---> 18\u001b[0;31m \u001b[0mmodel\u001b[0m \u001b[0;34m=\u001b[0m \u001b[0mload_model\u001b[0m\u001b[0;34m(\u001b[0m\u001b[0mmodel_save_path\u001b[0m\u001b[0;34m)\u001b[0m\u001b[0;34m\u001b[0m\u001b[0;34m\u001b[0m\u001b[0m\n\u001b[0m\u001b[1;32m     19\u001b[0m \u001b[0;34m\u001b[0m\u001b[0m\n\u001b[1;32m     20\u001b[0m \u001b[0;31m# COnfusion Matrix\u001b[0m\u001b[0;34m\u001b[0m\u001b[0;34m\u001b[0m\u001b[0m\n",
            "\u001b[0;32m/usr/local/lib/python3.10/dist-packages/keras/src/saving/saving_api.py\u001b[0m in \u001b[0;36mload_model\u001b[0;34m(filepath, custom_objects, compile, safe_mode, **kwargs)\u001b[0m\n\u001b[1;32m    260\u001b[0m \u001b[0;34m\u001b[0m\u001b[0m\n\u001b[1;32m    261\u001b[0m     \u001b[0;31m# Legacy case.\u001b[0m\u001b[0;34m\u001b[0m\u001b[0;34m\u001b[0m\u001b[0m\n\u001b[0;32m--> 262\u001b[0;31m     return legacy_sm_saving_lib.load_model(\n\u001b[0m\u001b[1;32m    263\u001b[0m         \u001b[0mfilepath\u001b[0m\u001b[0;34m,\u001b[0m \u001b[0mcustom_objects\u001b[0m\u001b[0;34m=\u001b[0m\u001b[0mcustom_objects\u001b[0m\u001b[0;34m,\u001b[0m \u001b[0mcompile\u001b[0m\u001b[0;34m=\u001b[0m\u001b[0mcompile\u001b[0m\u001b[0;34m,\u001b[0m \u001b[0;34m**\u001b[0m\u001b[0mkwargs\u001b[0m\u001b[0;34m\u001b[0m\u001b[0;34m\u001b[0m\u001b[0m\n\u001b[1;32m    264\u001b[0m     )\n",
            "\u001b[0;32m/usr/local/lib/python3.10/dist-packages/keras/src/utils/traceback_utils.py\u001b[0m in \u001b[0;36merror_handler\u001b[0;34m(*args, **kwargs)\u001b[0m\n\u001b[1;32m     68\u001b[0m             \u001b[0;31m# To get the full stack trace, call:\u001b[0m\u001b[0;34m\u001b[0m\u001b[0;34m\u001b[0m\u001b[0m\n\u001b[1;32m     69\u001b[0m             \u001b[0;31m# `tf.debugging.disable_traceback_filtering()`\u001b[0m\u001b[0;34m\u001b[0m\u001b[0;34m\u001b[0m\u001b[0m\n\u001b[0;32m---> 70\u001b[0;31m             \u001b[0;32mraise\u001b[0m \u001b[0me\u001b[0m\u001b[0;34m.\u001b[0m\u001b[0mwith_traceback\u001b[0m\u001b[0;34m(\u001b[0m\u001b[0mfiltered_tb\u001b[0m\u001b[0;34m)\u001b[0m \u001b[0;32mfrom\u001b[0m \u001b[0;32mNone\u001b[0m\u001b[0;34m\u001b[0m\u001b[0;34m\u001b[0m\u001b[0m\n\u001b[0m\u001b[1;32m     71\u001b[0m         \u001b[0;32mfinally\u001b[0m\u001b[0;34m:\u001b[0m\u001b[0;34m\u001b[0m\u001b[0;34m\u001b[0m\u001b[0m\n\u001b[1;32m     72\u001b[0m             \u001b[0;32mdel\u001b[0m \u001b[0mfiltered_tb\u001b[0m\u001b[0;34m\u001b[0m\u001b[0;34m\u001b[0m\u001b[0m\n",
            "\u001b[0;32m/usr/local/lib/python3.10/dist-packages/keras/src/saving/legacy/save.py\u001b[0m in \u001b[0;36mload_model\u001b[0;34m(filepath, custom_objects, compile, options)\u001b[0m\n\u001b[1;32m    232\u001b[0m                     \u001b[0;32mif\u001b[0m \u001b[0misinstance\u001b[0m\u001b[0;34m(\u001b[0m\u001b[0mfilepath_str\u001b[0m\u001b[0;34m,\u001b[0m \u001b[0mstr\u001b[0m\u001b[0;34m)\u001b[0m\u001b[0;34m:\u001b[0m\u001b[0;34m\u001b[0m\u001b[0;34m\u001b[0m\u001b[0m\n\u001b[1;32m    233\u001b[0m                         \u001b[0;32mif\u001b[0m \u001b[0;32mnot\u001b[0m \u001b[0mtf\u001b[0m\u001b[0;34m.\u001b[0m\u001b[0mio\u001b[0m\u001b[0;34m.\u001b[0m\u001b[0mgfile\u001b[0m\u001b[0;34m.\u001b[0m\u001b[0mexists\u001b[0m\u001b[0;34m(\u001b[0m\u001b[0mfilepath_str\u001b[0m\u001b[0;34m)\u001b[0m\u001b[0;34m:\u001b[0m\u001b[0;34m\u001b[0m\u001b[0;34m\u001b[0m\u001b[0m\n\u001b[0;32m--> 234\u001b[0;31m                             raise IOError(\n\u001b[0m\u001b[1;32m    235\u001b[0m                                 \u001b[0;34mf\"No file or directory found at {filepath_str}\"\u001b[0m\u001b[0;34m\u001b[0m\u001b[0;34m\u001b[0m\u001b[0m\n\u001b[1;32m    236\u001b[0m                             )\n",
            "\u001b[0;31mOSError\u001b[0m: No file or directory found at /content/drive/MyDrive/AI/Models/hemorrhage02122024.h5"
          ]
        }
      ]
    },
    {
      "cell_type": "code",
      "source": [
        "#####################################################################################################\n",
        "######################## Test with individual images #######\n",
        "#####################################################################################################\n",
        "import numpy as np\n",
        "import matplotlib.pyplot as plt\n",
        "from tensorflow.keras.models import load_model\n",
        "from tensorflow.keras.preprocessing.image import load_img, img_to_array\n",
        "from PIL import Image\n",
        "from tensorflow.keras import layers\n",
        "import os\n",
        "\n",
        "# Load the model\n",
        "model = load_model(model_save_path)\n",
        "\n",
        "# Lower thresholds will improve recall (few FN) and higher ones will improve precision (few FP)\n",
        "threshold = 28 #In %: ADJUST based on model and disease. > threshold will be considered as 1!\n",
        "\n",
        "# Pick an image sample\n",
        "imgpath = os.path.join(source_directory, 'img05405.jpg')\n",
        "\n",
        "# Display the original image in full resolution\n",
        "image = load_img(imgpath)\n",
        "plt.imshow(image)\n",
        "\n",
        "# Downscale image to fit training resolution\n",
        "image = load_img(imgpath, target_size=(224, 224))\n",
        "input_image = img_to_array(image)\n",
        "input_image = input_image.reshape(1, 224, 224, 3)  # Add batch dimension and match model input shape\n",
        "\n",
        "# Check for disease\n",
        "# Print probability of disease.\n",
        "def check_for_disease (diseasename,image,savedmodel):\n",
        "    model = load_model(savedmodel)\n",
        "    prediction = model.predict(image)\n",
        "    prediction_prob = prediction[0][0] * 100 # Note the [][] since model predicts in format [[probablity in 0 to 1]]\n",
        "    #Cast to Int (no decimals)\n",
        "    prediction_prob = int(prediction_prob)\n",
        "\n",
        "    # Print result and probability of disease.\n",
        "    if prediction_prob > threshold:\n",
        "        print(f\"Eye image shows the patient has {diseasename} with probablity {prediction_prob} %\")\n",
        "    else:\n",
        "        print(f\"Eye image shows the patient does NOT have {diseasename} with probablity of disease at {prediction_prob} %\")\n",
        "# Check for disease\n",
        "check_for_disease(diseasetarget,input_image,model_save_path)"
      ],
      "metadata": {
        "id": "jRfddyLn8Vri"
      },
      "execution_count": null,
      "outputs": []
    }
  ]
}